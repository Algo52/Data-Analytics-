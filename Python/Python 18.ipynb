{
 "cells": [
  {
   "cell_type": "code",
   "execution_count": 2,
   "id": "81842cd4",
   "metadata": {},
   "outputs": [
    {
     "name": "stdout",
     "output_type": "stream",
     "text": [
      "Valid\n",
      "Valid\n",
      "Invalid\n"
     ]
    }
   ],
   "source": [
    "###1. Python – Check whether a string starts and ends with the same character or not\n",
    "import re\n",
    " \n",
    "# the regular  expression\n",
    "regex = r'^[a-z]$|^([a-z]).*\\1$'\n",
    " \n",
    "# function for checking the string\n",
    "def check(string):\n",
    " \n",
    "    # pass the regular expression\n",
    "    # and the string in the search() method\n",
    "    if(re.search(regex, string)): \n",
    "        print(\"Valid\") \n",
    "    else: \n",
    "        print(\"Invalid\") \n",
    " \n",
    "if __name__ == '__main__' :\n",
    " \n",
    "    sample1 = \"abba\"\n",
    "    sample2 = \"a\"\n",
    "    sample3 = \"abcd\"\n",
    " \n",
    "    check(sample1)\n",
    "    check(sample2)\n",
    "    check(sample3)"
   ]
  },
  {
   "cell_type": "code",
   "execution_count": 3,
   "id": "fd2476ac",
   "metadata": {},
   "outputs": [
    {
     "name": "stdout",
     "output_type": "stream",
     "text": [
      "Yes\n",
      "Yes\n",
      "No\n"
     ]
    }
   ],
   "source": [
    "import re\n",
    "  \n",
    "# Function to match the string\n",
    "def match(text):\n",
    "          \n",
    "        # regex\n",
    "        pattern = '[A-Z]+[a-z]+$'\n",
    "          \n",
    "        # searching pattern\n",
    "        if re.search(pattern, text):\n",
    "                return('Yes')\n",
    "        else:\n",
    "                return('No')\n",
    "  \n",
    "# Driver Function\n",
    "print(match(\"\n",
    "            \"))\n",
    "print(match(\"geeksforGeeks\"))\n",
    "print(match(\"geeks\"))"
   ]
  },
  {
   "cell_type": "code",
   "execution_count": 5,
   "id": "c66be3a4",
   "metadata": {},
   "outputs": [
    {
     "name": "stdout",
     "output_type": "stream",
     "text": [
      "Python is great and Java also\n"
     ]
    }
   ],
   "source": [
    "##3. Python Program to Remove duplicate words from Sentence\n",
    "from collections import Counter\n",
    "  \n",
    "def remov_duplicates(input):\n",
    "  \n",
    "    # split input string separated by space\n",
    "    input = input.split(\" \")\n",
    "  \n",
    "    UniqW = Counter(input)\n",
    "  \n",
    "    # joins two adjacent elements in iterable way\n",
    "    s = \" \".join(UniqW.keys())\n",
    "    print (s)\n",
    "  \n",
    "# Driver program\n",
    "if __name__ == \"__main__\":\n",
    "    input = 'Python is great and Java is also great'\n",
    "    remov_duplicates(input)"
   ]
  },
  {
   "cell_type": "code",
   "execution_count": 6,
   "id": "b1d9fe8d",
   "metadata": {},
   "outputs": [
    {
     "name": "stdout",
     "output_type": "stream",
     "text": [
      "initial string :  123abcjw:, .@! eiw\n",
      "final string 123abcjweiw\n"
     ]
    }
   ],
   "source": [
    "###4. Python | Remove all characters except letters and numbers\n",
    "import re\n",
    " \n",
    "# initialising string\n",
    "ini_string = \"123abcjw:, .@! eiw\"\n",
    " \n",
    "# printing initial string\n",
    "print (\"initial string : \", ini_string)\n",
    " \n",
    "# function to demonstrate removal of characters\n",
    "# which are not numbers and alphabets using re\n",
    " \n",
    "result = re.sub('[\\W_]+', '', ini_string)\n",
    " \n",
    "# printing final string\n",
    "print (\"final string\", result)"
   ]
  },
  {
   "cell_type": "code",
   "execution_count": 7,
   "id": "8ea10af6",
   "metadata": {},
   "outputs": [
    {
     "name": "stdout",
     "output_type": "stream",
     "text": [
      "Discard\n",
      "Accept\n",
      "Discard\n",
      "Accept\n"
     ]
    }
   ],
   "source": [
    "##5. Python Regex | Program to accept string ending with alphanumeric character\n",
    "import re\n",
    " \n",
    "# Make a regular expression to accept string\n",
    "# ending with alphanumeric character\n",
    "regex = '[a-zA-z0-9]$'\n",
    "     \n",
    "# Define a function for accepting string\n",
    "# ending with alphanumeric character\n",
    "def check(string):\n",
    " \n",
    "     # pass the regular expression\n",
    "     # and the string in search() method\n",
    "    if(re.search(regex, string)):\n",
    "        print(\"Accept\")\n",
    "         \n",
    "    else:\n",
    "        print(\"Discard\")\n",
    "     \n",
    " \n",
    "# Driver Code\n",
    "if __name__ == '__main__' :\n",
    "     \n",
    "    # Enter the string\n",
    "    string = \"ankirai@\"\n",
    "     \n",
    "    # calling run function\n",
    "    check(string)\n",
    " \n",
    "    string = \"ankitrai326\"\n",
    "    check(string)\n",
    " \n",
    "    string = \"ankit.\"\n",
    "    check(string)\n",
    " \n",
    "    string = \"geeksforgeeks\"\n",
    "    check(string)"
   ]
  },
  {
   "cell_type": "code",
   "execution_count": 8,
   "id": "10536b5d",
   "metadata": {},
   "outputs": [
    {
     "name": "stdout",
     "output_type": "stream",
     "text": [
      "Valid\n",
      "Invalid\n",
      "Invalid\n"
     ]
    }
   ],
   "source": [
    "##6. Python Regex – Program to accept string starting with vowel\n",
    "import re\n",
    " \n",
    "# Make a regular expression\n",
    "# to accept string starting with vowel\n",
    "regex = '^[aeiouAEIOU][A-Za-z0-9_]*'\n",
    "     \n",
    "# Define a function for\n",
    "# accepting string start with vowel\n",
    "def check(string):\n",
    " \n",
    "     # pass the regular expression\n",
    "     # and the string in search() method\n",
    "    if(re.search(regex, string)):\n",
    "        print(\"Valid\")\n",
    "         \n",
    "    else:\n",
    "        print(\"Invalid\")\n",
    "     \n",
    " \n",
    "# Driver Code\n",
    "if __name__ == '__main__' :\n",
    "     \n",
    "    # Enter the string\n",
    "    string = \"ankit\"\n",
    "     \n",
    "    # calling run function\n",
    "    check(string)\n",
    " \n",
    "    string = \"geeks\"\n",
    "    check(string)\n",
    " \n",
    "    string = \"sandeep\"\n",
    "    check(string)"
   ]
  },
  {
   "cell_type": "code",
   "execution_count": 9,
   "id": "87c8c7a2",
   "metadata": {},
   "outputs": [
    {
     "name": "stdout",
     "output_type": "stream",
     "text": [
      "string starts with the given substring\n",
      "string doesn't start with the given substring\n"
     ]
    }
   ],
   "source": [
    "##\n",
    "import re\n",
    "  \n",
    "# define a function \n",
    "def find(string, sample) :\n",
    "    \n",
    "  # check substring present \n",
    "  # in a string or not\n",
    "  if (sample in string):\n",
    "  \n",
    "      y = \"^\" + sample\n",
    "  \n",
    "      # check if string starts \n",
    "      # with the substring\n",
    "      x = re.search(y, string)\n",
    "  \n",
    "      if x :\n",
    "          print(\"string starts with the given substring\")\n",
    "  \n",
    "      else :\n",
    "          print(\"string doesn't start with the given substring\")\n",
    "  \n",
    "  else :\n",
    "      print(\"entered string isn't a substring\")\n",
    "  \n",
    "  \n",
    "# Driver code\n",
    "string = \"geeks for geeks makes learning fun\"  \n",
    "sample = \"geeks\"\n",
    "  \n",
    "# function call\n",
    "find(string, sample)\n",
    "  \n",
    "sample = \"makes\"\n",
    "  \n",
    "# function call\n",
    "find(string, sample)"
   ]
  },
  {
   "cell_type": "code",
   "execution_count": 10,
   "id": "ad0dfddc",
   "metadata": {},
   "outputs": [
    {
     "name": "stdout",
     "output_type": "stream",
     "text": [
      "Yes\n"
     ]
    }
   ],
   "source": [
    "###8. Python Program to Check if an URL is valid or not using Regular Expression\n",
    "import re\n",
    " \n",
    "# Function to validate URL\n",
    "# using regular expression\n",
    "def isValidURL(str):\n",
    " \n",
    "    # Regex to check valid URL\n",
    "    regex = (\"((http|https)://)(www.)?\" +\n",
    "             \"[a-zA-Z0-9@:%._\\\\+~#?&//=]\" +\n",
    "             \"{2,256}\\\\.[a-z]\" +\n",
    "             \"{2,6}\\\\b([-a-zA-Z0-9@:%\" +\n",
    "             \"._\\\\+~#?&//=]*)\")\n",
    "     \n",
    "    # Compile the ReGex\n",
    "    p = re.compile(regex)\n",
    " \n",
    "    # If the string is empty\n",
    "    # return false\n",
    "    if (str == None):\n",
    "        return False\n",
    " \n",
    "    # Return if the string\n",
    "    # matched the ReGex\n",
    "    if(re.search(p, str)):\n",
    "        return True\n",
    "    else:\n",
    "        return False\n",
    " \n",
    "# Driver code\n",
    " \n",
    "# Test Case 1:\n",
    "url = \"https://www.geeksforgeeks.org\"\n",
    " \n",
    "if(isValidURL(url) == True):\n",
    "    print(\"Yes\")\n",
    "else:\n",
    "    print(\"No\")"
   ]
  },
  {
   "cell_type": "code",
   "execution_count": null,
   "id": "716e64fe",
   "metadata": {},
   "outputs": [],
   "source": []
  }
 ],
 "metadata": {
  "kernelspec": {
   "display_name": "Python 3 (ipykernel)",
   "language": "python",
   "name": "python3"
  },
  "language_info": {
   "codemirror_mode": {
    "name": "ipython",
    "version": 3
   },
   "file_extension": ".py",
   "mimetype": "text/x-python",
   "name": "python",
   "nbconvert_exporter": "python",
   "pygments_lexer": "ipython3",
   "version": "3.9.7"
  }
 },
 "nbformat": 4,
 "nbformat_minor": 5
}
