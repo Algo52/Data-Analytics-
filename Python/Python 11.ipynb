{
 "cells": [
  {
   "cell_type": "code",
   "execution_count": 1,
   "id": "472a0403",
   "metadata": {},
   "outputs": [
    {
     "name": "stdout",
     "output_type": "stream",
     "text": [
      "The original dictionary is : {'gfg': [7, 6, 3], 'is': [2, 10, 3], 'best': [19, 4]}\n",
      "The sorted dictionary : {'best': [4, 19], 'gfg': [3, 6, 7], 'is': [2, 3, 10]}\n"
     ]
    }
   ],
   "source": [
    "###1. Python – Sort Dictionary key and values List\n",
    "test_dict = {'gfg': [7, 6, 3],\n",
    "'is': [2, 10, 3],\n",
    "'best': [19, 4]}\n",
    "# printing original dictionary\n",
    "print(\"The original dictionary is : \" + str(test_dict))\n",
    "res = dict()\n",
    "for key in sorted(test_dict):\n",
    "    res[key] = sorted(test_dict[key])\n",
    "# printing result\n",
    "print(\"The sorted dictionary : \" + str(res))"
   ]
  },
  {
   "cell_type": "code",
   "execution_count": 3,
   "id": "a44d817a",
   "metadata": {},
   "outputs": [
    {
     "name": "stdout",
     "output_type": "stream",
     "text": [
      "The value associated with 'c' is : \n"
     ]
    }
   ],
   "source": [
    "###2. Handling missing keys in Python dictionaries\n",
    "d = { 'a' : 1 , 'b' : 2 }\n",
    "# trying to output value of absent key\n",
    "print (\"The value associated with 'c' is : \")\n"
   ]
  },
  {
   "cell_type": "code",
   "execution_count": 4,
   "id": "79b50afc",
   "metadata": {},
   "outputs": [
    {
     "name": "stdout",
     "output_type": "stream",
     "text": [
      "{(10, 20, 30): 0, (5, 2, 4): 3}\n"
     ]
    }
   ],
   "source": [
    "###3. Python dictionary with keys having multiple inputs\n",
    "import random as rn\n",
    "# creating an empty dictionary\n",
    "dict = {}\n",
    "# Insert first triplet in dictionary\n",
    "x, y, z = 10, 20, 30\n",
    "dict[x, y, z] = x + y - z;\n",
    "# Insert second triplet in dictionary\n",
    "x, y, z = 5, 2, 4\n",
    "dict[x, y, z] = x + y - z;\n",
    "# print the dictionary\n",
    "print(dict)\n"
   ]
  },
  {
   "cell_type": "code",
   "execution_count": 6,
   "id": "c0b14f33",
   "metadata": {},
   "outputs": [
    {
     "name": "stdout",
     "output_type": "stream",
     "text": [
      "cat \n"
     ]
    }
   ],
   "source": [
    "###4. Print anagrams together in Python using List and Dictionary\n",
    "def allAnagram(input):\n",
    "    dict = {}\n",
    "    # traverse list of strings\n",
    "    for strVal in input:\n",
    "        key = ''.join(sorted(strVal))\n",
    "        if key in dict.keys():\n",
    "            dict[key].append(strVal)\n",
    "        else:\n",
    "            dict[key] = []\n",
    "            dict[key].append(strVal)\n",
    "        # traverse dictionary and concatenate values\n",
    "        # of keys together\n",
    "            output = \"\"\n",
    "            for key,value in dict.items():\n",
    "                output = output + ' '.join(value) + ' '\n",
    "                return output\n",
    "# Driver function\n",
    "if __name__ == \"__main__\":\n",
    "    input=['cat', 'dog', 'tac', 'god', 'act']\n",
    "    print (allAnagram(input))"
   ]
  },
  {
   "cell_type": "code",
   "execution_count": 8,
   "id": "46054a24",
   "metadata": {},
   "outputs": [
    {
     "name": "stdout",
     "output_type": "stream",
     "text": [
      "Less than k non-repeating characters in input.\n"
     ]
    }
   ],
   "source": [
    "####5. K’th Non-repeating Character in Python using List Comprehension and OrderedDict\n",
    "from collections import OrderedDict\n",
    "def kthRepeating(input,k):\n",
    "    dict=OrderedDict.fromkeys(input,0)\n",
    "    for ch in input:\n",
    "        dict[ch]+=1\n",
    "        nonRepeatDict = [key for (key,value) in dict.items() if value==1]\n",
    "        if len(nonRepeatDict) < k:\n",
    "            return 'Less than k non-repeating characters in input.'\n",
    "        else:\n",
    "            return nonRepeatDict[k-1]\n",
    "# Driver function\n",
    "if __name__ == \"__main__\":\n",
    "    input = \"geeksforgeeks\"\n",
    "    k = 3\n",
    "    print (kthRepeating(input, k))\n"
   ]
  },
  {
   "cell_type": "code",
   "execution_count": 11,
   "id": "8fc41be1",
   "metadata": {},
   "outputs": [],
   "source": [
    "####6. Check if binary representations of two numbers are anagram\n",
    "from collections import Counter\n",
    "def checkAnagram(num1,num2):\n",
    "    bin1 = bin(num1)[2:]\n",
    "    bin2 = bin(num2)[2:]\n",
    "    # append zeros in shorter string\n",
    "    zeros = abs(len(bin1)-len(bin2))\n",
    "    if (len(bin1)>len(bin2)):\n",
    "        bin2 = zeros * '0' + bin2\n",
    "    else:\n",
    "        bin1 = zeros * '0' + bin1\n",
    "        # convert binary representations\n",
    "        # into dictionary\n",
    "        dict1 = Counter(bin1)\n",
    "        dict2 = Counter(bin2)\n",
    "        # compare both dictionaries\n",
    "        if dict1 == dict2:\n",
    "            print('Yes')\n",
    "        else:\n",
    "            print('No')\n",
    "# Driver program\n",
    "if __name__ == \"__main__\":\n",
    "    num1 = 8\n",
    "    num2 = 4\n",
    "    checkAnagram(num1,num2)"
   ]
  },
  {
   "cell_type": "code",
   "execution_count": 13,
   "id": "001df019",
   "metadata": {},
   "outputs": [
    {
     "name": "stdout",
     "output_type": "stream",
     "text": [
      "1\n",
      "1\n",
      "2\n",
      "2\n",
      "3\n"
     ]
    }
   ],
   "source": [
    "####7. Python Counter to find the size of the largest subset of anagram words\n",
    "from collections import Counter\n",
    "def maxAnagramSize(input):\n",
    "    input = input.split(\" \")\n",
    "    for i in range(0,len(input)):\n",
    "        input[i]=''.join(sorted(input[i]))\n",
    "        freqDict = Counter(input)\n",
    "        # get maximum value of frequency\n",
    "        print (max(freqDict.values()))\n",
    "        # Driver program\n",
    "if __name__ == \"__main__\":\n",
    "        input = 'ant magenta magnate tan gnamate'\n",
    "        maxAnagramSize(input)"
   ]
  },
  {
   "cell_type": "code",
   "execution_count": 14,
   "id": "e91cec81",
   "metadata": {},
   "outputs": [
    {
     "name": "stdout",
     "output_type": "stream",
     "text": [
      "Python is great and Java also\n"
     ]
    }
   ],
   "source": [
    "###8. Python | Remove all duplicated words from a given sentence\n",
    "from collections import Counter\n",
    "def remov_duplicates(input):\n",
    "    # split input string separated by space\n",
    "    input = input.split(\" \")\n",
    "    # now create dictionary using counter method\n",
    "    # which will have strings as key and their\n",
    "    # frequencies as value\n",
    "    UniqW = Counter(input)\n",
    "    # joins two adjacent elements in iterable way\n",
    "    s = \" \".join(UniqW.keys())\n",
    "    print (s)\n",
    "# Driver program\n",
    "if __name__ == \"__main__\":\n",
    "    input = 'Python is great and Java is also great'\n",
    "    remov_duplicates(input)"
   ]
  },
  {
   "cell_type": "code",
   "execution_count": null,
   "id": "5b1242d4",
   "metadata": {},
   "outputs": [],
   "source": []
  }
 ],
 "metadata": {
  "kernelspec": {
   "display_name": "Python 3 (ipykernel)",
   "language": "python",
   "name": "python3"
  },
  "language_info": {
   "codemirror_mode": {
    "name": "ipython",
    "version": 3
   },
   "file_extension": ".py",
   "mimetype": "text/x-python",
   "name": "python",
   "nbconvert_exporter": "python",
   "pygments_lexer": "ipython3",
   "version": "3.9.7"
  }
 },
 "nbformat": 4,
 "nbformat_minor": 5
}
