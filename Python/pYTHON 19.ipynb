{
 "cells": [
  {
   "cell_type": "code",
   "execution_count": 1,
   "id": "85bdde95",
   "metadata": {},
   "outputs": [
    {
     "name": "stdout",
     "output_type": "stream",
     "text": [
      "Valid Email\n",
      "Valid Email\n",
      "Invalid Email\n"
     ]
    }
   ],
   "source": [
    "###1. Python Program to Check if email address valid or not\n",
    "import re\n",
    " \n",
    "# Make a regular expression\n",
    "# for validating an Email\n",
    "regex = r'\\b[A-Za-z0-9._%+-]+@[A-Za-z0-9.-]+\\.[A-Z|a-z]{2,}\\b'\n",
    " \n",
    "# Define a function for\n",
    "# for validating an Email\n",
    " \n",
    " \n",
    "def check(email):\n",
    " \n",
    "    # pass the regular expression\n",
    "    # and the string into the fullmatch() method\n",
    "    if(re.fullmatch(regex, email)):\n",
    "        print(\"Valid Email\")\n",
    " \n",
    "    else:\n",
    "        print(\"Invalid Email\")\n",
    " \n",
    " \n",
    "# Driver Code\n",
    "if __name__ == '__main__':\n",
    " \n",
    "    # Enter the email\n",
    "    email = \"ankitrai326@gmail.com\"\n",
    " \n",
    "    # calling run function\n",
    "    check(email)\n",
    " \n",
    "    email = \"my.ownsite@our-earth.org\"\n",
    "    check(email)\n",
    " \n",
    "    email = \"ankitrai326.com\"\n",
    "    check(email)"
   ]
  },
  {
   "cell_type": "code",
   "execution_count": 2,
   "id": "05073cb4",
   "metadata": {},
   "outputs": [
    {
     "name": "stdout",
     "output_type": "stream",
     "text": [
      "The file ending with .xml is: geeks.xml\n"
     ]
    }
   ],
   "source": [
    "####2. Python program to find files having a particular extension using RegEx\n",
    "import re\n",
    "  \n",
    "# list of different types of file\n",
    "filenames = [\"gfg.html\", \"geeks.xml\", \n",
    "            \"computer.txt\", \"geeksforgeeks.jpg\"]\n",
    "  \n",
    "for file in filenames:\n",
    "    # search given pattern in the line \n",
    "    match = re.search(\"\\.xml$\", file)\n",
    "  \n",
    "    # if match is found\n",
    "    if match:\n",
    "        print(\"The file ending with .xml is:\",\n",
    "             file)"
   ]
  },
  {
   "cell_type": "code",
   "execution_count": 3,
   "id": "66cafb12",
   "metadata": {},
   "outputs": [
    {
     "ename": "FileNotFoundError",
     "evalue": "[Errno 2] No such file or directory: 'C:/Users/user/Desktop/New Text Document.txt'",
     "output_type": "error",
     "traceback": [
      "\u001b[1;31m---------------------------------------------------------------------------\u001b[0m",
      "\u001b[1;31mFileNotFoundError\u001b[0m                         Traceback (most recent call last)",
      "\u001b[1;32m~\\AppData\\Local\\Temp/ipykernel_1896/1190329513.py\u001b[0m in \u001b[0;36m<module>\u001b[1;34m\u001b[0m\n\u001b[0;32m      3\u001b[0m \u001b[1;33m\u001b[0m\u001b[0m\n\u001b[0;32m      4\u001b[0m \u001b[1;31m# opening and reading the file\u001b[0m\u001b[1;33m\u001b[0m\u001b[1;33m\u001b[0m\u001b[0m\n\u001b[1;32m----> 5\u001b[1;33m \u001b[1;32mwith\u001b[0m \u001b[0mopen\u001b[0m\u001b[1;33m(\u001b[0m\u001b[1;34m'C:/Users/user/Desktop/New Text Document.txt'\u001b[0m\u001b[1;33m)\u001b[0m \u001b[1;32mas\u001b[0m \u001b[0mfh\u001b[0m\u001b[1;33m:\u001b[0m\u001b[1;33m\u001b[0m\u001b[1;33m\u001b[0m\u001b[0m\n\u001b[0m\u001b[0;32m      6\u001b[0m    \u001b[0mfstring\u001b[0m \u001b[1;33m=\u001b[0m \u001b[0mfh\u001b[0m\u001b[1;33m.\u001b[0m\u001b[0mreadlines\u001b[0m\u001b[1;33m(\u001b[0m\u001b[1;33m)\u001b[0m\u001b[1;33m\u001b[0m\u001b[1;33m\u001b[0m\u001b[0m\n\u001b[0;32m      7\u001b[0m \u001b[1;33m\u001b[0m\u001b[0m\n",
      "\u001b[1;31mFileNotFoundError\u001b[0m: [Errno 2] No such file or directory: 'C:/Users/user/Desktop/New Text Document.txt'"
     ]
    }
   ],
   "source": [
    "###3. Python program to extract IP address from file\n",
    "import re\n",
    "  \n",
    "# opening and reading the file \n",
    "with open('C:/Users/user/Desktop/New Text Document.txt') as fh:\n",
    "   fstring = fh.readlines()\n",
    "  \n",
    "# declaring the regex pattern for IP addresses\n",
    "pattern = re.compile(r'(\\d{1,3}\\.\\d{1,3}\\.\\d{1,3}\\.\\d{1,3})')\n",
    "  \n",
    "# initializing the list object\n",
    "lst=[]\n",
    "  \n",
    "# extracting the IP addresses\n",
    "for line in fstring:\n",
    "   lst.append(pattern.search(line)[0])\n",
    "  \n",
    "# displaying the extracted IP addresses\n",
    "print(lst)"
   ]
  },
  {
   "cell_type": "code",
   "execution_count": 4,
   "id": "20ad4c1d",
   "metadata": {},
   "outputs": [
    {
     "ename": "SyntaxError",
     "evalue": "EOL while scanning string literal (Temp/ipykernel_1896/1935991131.py, line 3)",
     "output_type": "error",
     "traceback": [
      "\u001b[1;36m  File \u001b[1;32m\"C:\\Users\\Hemanth\\AppData\\Local\\Temp/ipykernel_1896/1935991131.py\"\u001b[1;36m, line \u001b[1;32m3\u001b[0m\n\u001b[1;33m    password = \"\u001b[0m\n\u001b[1;37m                ^\u001b[0m\n\u001b[1;31mSyntaxError\u001b[0m\u001b[1;31m:\u001b[0m EOL while scanning string literal\n"
     ]
    }
   ],
   "source": [
    "###4. Python program to check the validity of a Password\n",
    "import re\n",
    "password = \"\n",
    "R@m@_f0rtu9e$& quot\n",
    "flag = 0\n",
    "while True:\n",
    "    if (len(password) & lt\n",
    "            8):\n",
    "        flag = -1\n",
    "        break\n",
    "    elif not re.search(& quot\n",
    "                        [a-z]\"                        , password):\n",
    "        flag = -1\n",
    "        break\n",
    "    elif not re.search(& quot\n",
    "                        [A-Z]\"                        , password):\n",
    "        flag = -1\n",
    "        break\n",
    "    elif not re.search(& quot\n",
    "                        [0-9]\"                        , password):\n",
    "        flag = -1\n",
    "        break\n",
    "    elif not re.search(& quot\n",
    "                        [_@$]\"                        , password):\n",
    "        flag = -1\n",
    "        break\n",
    "    elif re.search(& quot\n",
    "                    \\s\"                    , password):\n",
    "        flag = -1\n",
    "        break\n",
    "    else:\n",
    "        flag = 0\n",
    "        print(& quot\n",
    "               Valid Password & quot\n",
    "               )\n",
    "        break\n",
    " \n",
    "if flag == -1:\n",
    "    print(& quot\n",
    "           Not a Valid Password & quot\n",
    "           )"
   ]
  },
  {
   "cell_type": "code",
   "execution_count": 5,
   "id": "c00a6d3b",
   "metadata": {},
   "outputs": [
    {
     "name": "stdout",
     "output_type": "stream",
     "text": [
      "Strong Password!\n",
      "Weak password: Same string pattern repetition\n",
      "Weak Password: Same character repeats three or more times in a row\n",
      "Weak password: Same string pattern repetition\n",
      "Strong Password!\n",
      "Password cannot be a newline or space!\n"
     ]
    }
   ],
   "source": [
    "###5. Categorize Password as Strong or Weak using Regex in Python\n",
    "import re\n",
    "  \n",
    "  \n",
    "# Function to categorize password\n",
    "def password(v):\n",
    "   \n",
    "    # the password should not be a\n",
    "    # newline or space\n",
    "    if v == \"\\n\" or v == \" \":\n",
    "        return \"Password cannot be a newline or space!\"\n",
    "   \n",
    "    # the password length should be in\n",
    "    # between 9 and 20\n",
    "    if 9 <= len(v) <= 20:\n",
    "   \n",
    "        # checks for occurrence of a character \n",
    "        # three or more times in a row\n",
    "        if re.search(r'(.)\\1\\1', v):\n",
    "            return \"Weak Password: Same character repeats three or more times in a row\"\n",
    "   \n",
    "        # checks for occurrence of same string \n",
    "        # pattern( minimum of two character length)\n",
    "        # repeating\n",
    "        if re.search(r'(..)(.*?)\\1', v):\n",
    "            return \"Weak password: Same string pattern repetition\"\n",
    "   \n",
    "        else:\n",
    "            return \"Strong Password!\"\n",
    "   \n",
    "    else:\n",
    "        return \"Password length must be 9-20 characters!\"\n",
    "  \n",
    "# Main method\n",
    "def main():\n",
    "   \n",
    "    # Driver code\n",
    "    print(password(\"Qggf!@ghf3\"))\n",
    "    print(password(\"Gggksforgeeks\"))\n",
    "    print(password(\"aaabnil1gu\"))\n",
    "    print(password(\"Aasd!feasn\"))\n",
    "    print(password(\"772*hd897\"))\n",
    "    print(password(\" \"))\n",
    "   \n",
    "   \n",
    "# Driver Code\n",
    "if __name__ == '__main__':\n",
    "    main()"
   ]
  },
  {
   "cell_type": "code",
   "execution_count": null,
   "id": "e1f23477",
   "metadata": {},
   "outputs": [],
   "source": [
    "##6. Python program to read file word by word\n",
    "with open('GFG.txt','r') as file:\n",
    "   \n",
    "    # reading each line    \n",
    "    for line in file:\n",
    "   \n",
    "        # reading each word        \n",
    "        for word in line.split():\n",
    "   \n",
    "            # displaying the words           \n",
    "            print(word) "
   ]
  },
  {
   "cell_type": "code",
   "execution_count": null,
   "id": "42447213",
   "metadata": {},
   "outputs": [],
   "source": [
    "###7. Python program to read character by character from a file\n",
    "file = open('file.txt', 'r')\n",
    " \n",
    "while 1:\n",
    "     \n",
    "    # read by character\n",
    "    char = file.read(1)         \n",
    "    if not char:\n",
    "        break\n",
    "         \n",
    "    print(char)\n",
    " \n",
    "file.close()"
   ]
  },
  {
   "cell_type": "code",
   "execution_count": 6,
   "id": "127f3b5e",
   "metadata": {},
   "outputs": [],
   "source": [
    "###8. Python – Get number of characters, words, spaces and lines in a file"
   ]
  },
  {
   "cell_type": "code",
   "execution_count": null,
   "id": "8354c919",
   "metadata": {},
   "outputs": [],
   "source": [
    "###v9. Python program to Count the Number of occurrences of a key-value pair in a text file\n",
    "f = open(\"file.txt\", \"r\")\n",
    "d = dict()\n",
    "  \n",
    "for res in f:\n",
    "    # removing new line and extra\n",
    "    # space characters\n",
    "    res = res.strip()\n",
    "  \n",
    "    # changing ase to prevent matching\n",
    "    # errors\n",
    "    res = res.lower()\n",
    "  \n",
    "    # separating key-value pairs\n",
    "    lines = res.split()\n",
    "  \n",
    "    for line in lines:\n",
    "  \n",
    "        if line in d:\n",
    "  \n",
    "            # If the key-value pair\n",
    "            # is present in d then \n",
    "            # increment its value by one\n",
    "            d[line] = d[line]+1\n",
    "        else:\n",
    "  \n",
    "            # Insert the key-value pair\n",
    "            # in the dictionary and sets\n",
    "            # its value to one\n",
    "            d[line] = 1\n",
    "  \n",
    "f.close()\n",
    "  \n",
    "# Printing Result\n",
    "for key in list(d.keys()):\n",
    "      print(\"The count of {} is {}\".format(key,d[key]))"
   ]
  },
  {
   "cell_type": "code",
   "execution_count": null,
   "id": "5c1b2d50",
   "metadata": {},
   "outputs": [],
   "source": [
    "##10. Python | Finding ‘n’ Character Words in a Text File\n",
    "count = 1\n",
    "chrw = \"\"\n",
    "  \n",
    "# text file\n",
    "file = open('textfile.txt', 'r')\n",
    "while 1:\n",
    "    sp = file.read(1)\n",
    "  \n",
    "    if count<= 3:\n",
    "        chrw = chrw + sp\n",
    "  \n",
    "    if count>3:\n",
    "        if sp ==\" \":\n",
    "            count = 0\n",
    "            if len(chrw)>0:\n",
    "                print(chrw)\n",
    "                chrw =\"\"\n",
    "        elif sp !=\" \":\n",
    "            chrw =\"\"\n",
    "    count = count + 1\n",
    "  \n",
    "    if not sp:\n",
    "        break\n",
    "  \n",
    "file.close() \n"
   ]
  }
 ],
 "metadata": {
  "kernelspec": {
   "display_name": "Python 3 (ipykernel)",
   "language": "python",
   "name": "python3"
  },
  "language_info": {
   "codemirror_mode": {
    "name": "ipython",
    "version": 3
   },
   "file_extension": ".py",
   "mimetype": "text/x-python",
   "name": "python",
   "nbconvert_exporter": "python",
   "pygments_lexer": "ipython3",
   "version": "3.9.7"
  }
 },
 "nbformat": 4,
 "nbformat_minor": 5
}
