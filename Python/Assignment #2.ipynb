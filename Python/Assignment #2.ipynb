{
 "cells": [
  {
   "cell_type": "code",
   "execution_count": 2,
   "id": "36fb8c1e",
   "metadata": {},
   "outputs": [],
   "source": [
    "# employee data with key as id of the employee and values as age of the employee\n",
    "Employee_data ={101: 43, 102: 25, 103: 43, 104: 31, 105: 26, 106: 28, 107: 29, 108: 43, 109: 25, 110: 22, 111: 22, 112: 25, 113: 30, 115: 45, 116: 23, 117: 29, 118: 28, 119: 30, 120: 28, 121: 42, 122: 39, 123: 29, 124: 42, 125: 43, 126: 42, 127: 40, 128: 27, 129: 23, 130: 30, 131: 37, 132: 20, 133: 36, 134: 27, 135: 27, 136: 22, 137: 28, 138: 23, 139: 45, 140: 39, 141: 29, 142: 33, 143: 39, 145: 34, 146: 26, 147: 30, 148: 38, 149: 29, 150: 24, 151: 28, 152: 34, 153: 42, 154: 29, 155: 23, 156: 31, 158: 25, 160: 45, 161: 42, 162: 27, 163: 24, 164: 20, 166: 24, 167: 28, 168: 20, 169: 33, 170: 34, 171: 37, 172: 45, 173: 35, 174: 23, 175: 44, 176: 27, 177: 30, 178: 26, 179: 27} "
   ]
  },
  {
   "cell_type": "markdown",
   "id": "ea96428c",
   "metadata": {},
   "source": [
    "#### Identify the senior most employees age\n",
    "- 45\n",
    "- 44\n",
    "- 48\n",
    "- 42"
   ]
  },
  {
   "cell_type": "code",
   "execution_count": 8,
   "id": "cf6d1cf9",
   "metadata": {},
   "outputs": [
    {
     "name": "stdout",
     "output_type": "stream",
     "text": [
      "45\n"
     ]
    }
   ],
   "source": [
    "senior=0\n",
    "for i in Employee_data:\n",
    "    if Employee_data[i]>senior:\n",
    "        senior=Employee_data[i]\n",
    "print(senior)"
   ]
  },
  {
   "cell_type": "markdown",
   "id": "d8f8114a",
   "metadata": {},
   "source": [
    "#### Identify the age of the employee with employee id 159 [ If the employee isn't present return NA]\n",
    "- 25\n",
    "- 32\n",
    "- NA\n",
    "- 42"
   ]
  },
  {
   "cell_type": "code",
   "execution_count": 13,
   "id": "e3deec33",
   "metadata": {},
   "outputs": [
    {
     "name": "stdout",
     "output_type": "stream",
     "text": [
      "NA\n"
     ]
    }
   ],
   "source": [
    "for i in Employee_data:\n",
    "    if Employee_data[i]==159:\n",
    "        print(Employee_data[i])\n",
    "else:\n",
    "    print(\"NA\")"
   ]
  },
  {
   "cell_type": "markdown",
   "id": "f182e433",
   "metadata": {},
   "source": [
    "#### Count the total number of employee in the organization\n",
    "- 79\n",
    "- 78\n",
    "- 60\n",
    "- 74"
   ]
  },
  {
   "cell_type": "code",
   "execution_count": 14,
   "id": "1e4329ed",
   "metadata": {},
   "outputs": [
    {
     "name": "stdout",
     "output_type": "stream",
     "text": [
      "74\n"
     ]
    }
   ],
   "source": [
    "total_number_employee=len(Employee_data.keys())\n",
    "print(total_number_employee)"
   ]
  },
  {
   "cell_type": "markdown",
   "id": "abc54768",
   "metadata": {},
   "source": [
    "#### Calculate the mean age of the employees\n",
    "- 31.36\n",
    "- 36.48\n",
    "- 28.77\n",
    "- 32.47"
   ]
  },
  {
   "cell_type": "code",
   "execution_count": 15,
   "id": "49156021",
   "metadata": {},
   "outputs": [
    {
     "name": "stdout",
     "output_type": "stream",
     "text": [
      "31.364864864864863\n"
     ]
    }
   ],
   "source": [
    "total_age=0\n",
    "for i in Employee_data:\n",
    "    total_age=total_age+Employee_data[i]\n",
    "print(total_age/total_number_employee)"
   ]
  },
  {
   "cell_type": "markdown",
   "id": "3d871708",
   "metadata": {},
   "source": [
    "#### Perform the following two tasks and then calculate the updated mean age of the employees\n",
    "##### Task1 Update the ages of employee id - 104,140, and 164 as 27\n",
    "##### Task2 Remove the employ with employee id - 143\n",
    "\n",
    "- 30.71\n",
    "- 31.36\n",
    "- 30.13\n",
    "- 31.13"
   ]
  },
  {
   "cell_type": "code",
   "execution_count": 16,
   "id": "279c8b7a",
   "metadata": {},
   "outputs": [],
   "source": [
    "if 143 in Employee_data:\n",
    "    del Employee_data[143]\n",
    "Employee_data[104]=27\n",
    "Employee_data[140]=27\n",
    "Employee_data[164]=27"
   ]
  },
  {
   "cell_type": "code",
   "execution_count": 17,
   "id": "701dfc1c",
   "metadata": {},
   "outputs": [
    {
     "name": "stdout",
     "output_type": "stream",
     "text": [
      "31.136986301369863\n"
     ]
    }
   ],
   "source": [
    "total_age=0\n",
    "total_number_employee=len(Employee_data.keys())\n",
    "for i in Employee_data:\n",
    "  total_age=total_age+Employee_data[i]\n",
    "print(total_age/total_number_employee)"
   ]
  },
  {
   "cell_type": "code",
   "execution_count": null,
   "id": "99d310a3",
   "metadata": {},
   "outputs": [],
   "source": []
  }
 ],
 "metadata": {
  "kernelspec": {
   "display_name": "Python 3 (ipykernel)",
   "language": "python",
   "name": "python3"
  },
  "language_info": {
   "codemirror_mode": {
    "name": "ipython",
    "version": 3
   },
   "file_extension": ".py",
   "mimetype": "text/x-python",
   "name": "python",
   "nbconvert_exporter": "python",
   "pygments_lexer": "ipython3",
   "version": "3.9.7"
  }
 },
 "nbformat": 4,
 "nbformat_minor": 5
}
