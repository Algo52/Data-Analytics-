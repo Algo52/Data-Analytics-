{
 "cells": [
  {
   "cell_type": "code",
   "execution_count": 5,
   "id": "9d9cd95b",
   "metadata": {},
   "outputs": [],
   "source": [
    "def findline(word):\n",
    "    for i in range(len(arr)):\n",
    "        if word in arr[i]:\n",
    "            print(i+1, end=\", \")\n",
    " \n",
    " \n",
    "findline(\"Hello\")"
   ]
  },
  {
   "cell_type": "code",
   "execution_count": 6,
   "id": "5e5d1bf4",
   "metadata": {},
   "outputs": [
    {
     "name": "stdout",
     "output_type": "stream",
     "text": [
      "This is the number of lines in the file\n",
      "6\n"
     ]
    }
   ],
   "source": [
    "###\n",
    "file = open(\"google.txt\",\"r\")\n",
    "Counter = 0\n",
    "  \n",
    "# Reading from file\n",
    "Content = file.read()\n",
    "CoList = Content.split(\"\\n\")\n",
    "  \n",
    "for i in CoList:\n",
    "    if i:\n",
    "        Counter += 1\n",
    "          \n",
    "print(\"This is the number of lines in the file\")\n",
    "print(Counter)"
   ]
  },
  {
   "cell_type": "code",
   "execution_count": 7,
   "id": "2a21e42a",
   "metadata": {},
   "outputs": [
    {
     "name": "stdout",
     "output_type": "stream",
     "text": [
      "i can write a current cursorin Maryland have transplanted a genetically modified pig’s heart into a human patient in a last-ditch effort to save his life.\n",
      "\n",
      "\n",
      "\n",
      "Doctors at the University of Maryland medical center said Monday that the patient was doing well three days after the highly experimental surgery, though it is too soon to know if the operation has been a success.\n",
      "\n",
      "\n",
      "\n",
      "Nonetheless, the transplant marks a step in the decades-long quest to one day use animal organs for life-saving operations. Doctors said the transplant showed that a heart from a genetically modified animal can function in the human body without immediate rejection.\n",
      "\n",
      "\n",
      "\n",
      "The patient, David Bennett, 57, a handyman, knew there was no guarantee the experiment would work but he was dying, ineligible for a human heart transplant and had no other option, his son said.\n",
      "\n",
      "\n",
      "\n",
      "“It was either die or do this transplant. I want to live. I know it’s a shot in the dark, but it’s my last choice,” Bennett said a day before the surgery, according to a statement provided by the University of Maryland School of Medicine.\n",
      "\n",
      "\n",
      "\n",
      "On Monday, Bennett was breathing on his own while still connected to a heart-lung machine to help his new heart. The next few weeks will be critical as Bennett recovers from the surgery and doctors carefully monitor how his heart is faring.heannrjkshhhhfhfsdlkfhsdfsdfjdfioufoif\n"
     ]
    }
   ],
   "source": [
    "##3. Python Program to remove lines starting with any prefix\n",
    "file1 = open('google.txt',\n",
    "             'r')\n",
    "  \n",
    "# defining object file2 to \n",
    "# open GeeksforGeeksUpdated file\n",
    "# in write mode\n",
    "file2 = open('googleudated.txt',\n",
    "             'w')\n",
    "  \n",
    "# reading each line from original \n",
    "# text file\n",
    "for line in file1.readlines():\n",
    "    \n",
    "     # reading all lines that do not\n",
    "     # begin with \"TextGenerator\"\n",
    "    if not (line.startswith('TextGenerator')):\n",
    "        \n",
    "        # printing those lines\n",
    "        print(line)\n",
    "          \n",
    "        # storing only those lines that \n",
    "        # do not begin with \"TextGenerator\"\n",
    "        file2.write(line)\n",
    "  \n",
    "# close and save the files\n",
    "file2.close()\n",
    "file1.close()"
   ]
  },
  {
   "cell_type": "code",
   "execution_count": 9,
   "id": "2003db69",
   "metadata": {},
   "outputs": [],
   "source": [
    "##4. Python Program to Eliminate repeated lines from a file\n",
    "outputFile = open('google.txt', \"w\")\n",
    " \n",
    "# reading the input file\n",
    "inputFile = open('google.txt', \"r\")\n",
    " \n",
    "# holds lines already seen\n",
    "lines_seen_so_far = set()\n",
    " \n",
    "# iterating each line in the file\n",
    "for line in inputFile:\n",
    " \n",
    "    # checking if line is unique\n",
    "    if line not in lines_seen_so_far:\n",
    " \n",
    "        # write unique lines in output file\n",
    "        outputFile.write(line)\n",
    " \n",
    "        # adds unique lines to lines_seen_so_far\n",
    "        lines_seen_so_far.add(line)       \n",
    " \n",
    "# closing the file\n",
    "inputFile.close()\n",
    "outputFile.close()"
   ]
  },
  {
   "cell_type": "code",
   "execution_count": 10,
   "id": "cdc20e05",
   "metadata": {},
   "outputs": [
    {
     "name": "stdout",
     "output_type": "stream",
     "text": [
      "Something unexpected occurred!\n"
     ]
    }
   ],
   "source": [
    "##5. Python Program to read List of Dictionaries from File\n",
    "def parse(d):\n",
    "    dictionary = dict()\n",
    "    # Removes curly braces and splits the pairs into a list\n",
    "    pairs = d.strip('{}').split(', ')\n",
    "    for i in pairs:\n",
    "        pair = i.split(': ')\n",
    "        # Other symbols from the key-value pair should be stripped.\n",
    "        dictionary[pair[0].strip('\\'\\'\\\"\\\"')] = pair[1].strip('\\'\\'\\\"\\\"')\n",
    "    return dictionary\n",
    "try:\n",
    "    geeky_file = open('geeky_file.txt', 'rt')\n",
    "    lines = geeky_file.read().split('\\n')\n",
    "    for l in lines:\n",
    "        if l != '':\n",
    "            dictionary = parse(l)\n",
    "            print(dictionary)\n",
    "    geeky_file.close()\n",
    "except:\n",
    "    print(\"Something unexpected occurred!\")"
   ]
  },
  {
   "cell_type": "code",
   "execution_count": 12,
   "id": "69697a33",
   "metadata": {},
   "outputs": [
    {
     "ename": "KeyboardInterrupt",
     "evalue": "Interrupted by user",
     "output_type": "error",
     "traceback": [
      "\u001b[1;31m---------------------------------------------------------------------------\u001b[0m",
      "\u001b[1;31mKeyboardInterrupt\u001b[0m                         Traceback (most recent call last)",
      "\u001b[1;32m~\\AppData\\Local\\Temp/ipykernel_9444/591399588.py\u001b[0m in \u001b[0;36m<module>\u001b[1;34m\u001b[0m\n\u001b[0;32m      1\u001b[0m \u001b[1;31m##6. Python – Append content of one text file to another\u001b[0m\u001b[1;33m\u001b[0m\u001b[1;33m\u001b[0m\u001b[0m\n\u001b[1;32m----> 2\u001b[1;33m \u001b[0mirstfile\u001b[0m \u001b[1;33m=\u001b[0m \u001b[0minput\u001b[0m\u001b[1;33m(\u001b[0m\u001b[1;34m\"Enter the name of first file \"\u001b[0m\u001b[1;33m)\u001b[0m\u001b[1;33m\u001b[0m\u001b[1;33m\u001b[0m\u001b[0m\n\u001b[0m\u001b[0;32m      3\u001b[0m \u001b[0msecondfile\u001b[0m \u001b[1;33m=\u001b[0m \u001b[0minput\u001b[0m\u001b[1;33m(\u001b[0m\u001b[1;34m\"Enter the name of second file \"\u001b[0m\u001b[1;33m)\u001b[0m\u001b[1;33m\u001b[0m\u001b[1;33m\u001b[0m\u001b[0m\n\u001b[0;32m      4\u001b[0m \u001b[1;33m\u001b[0m\u001b[0m\n\u001b[0;32m      5\u001b[0m \u001b[1;31m# opening both files in read only mode to read initial contents\u001b[0m\u001b[1;33m\u001b[0m\u001b[1;33m\u001b[0m\u001b[0m\n",
      "\u001b[1;32m~\\anaconda3\\lib\\site-packages\\ipykernel\\kernelbase.py\u001b[0m in \u001b[0;36mraw_input\u001b[1;34m(self, prompt)\u001b[0m\n\u001b[0;32m   1004\u001b[0m                 \u001b[1;34m\"raw_input was called, but this frontend does not support input requests.\"\u001b[0m\u001b[1;33m\u001b[0m\u001b[1;33m\u001b[0m\u001b[0m\n\u001b[0;32m   1005\u001b[0m             )\n\u001b[1;32m-> 1006\u001b[1;33m         return self._input_request(\n\u001b[0m\u001b[0;32m   1007\u001b[0m             \u001b[0mstr\u001b[0m\u001b[1;33m(\u001b[0m\u001b[0mprompt\u001b[0m\u001b[1;33m)\u001b[0m\u001b[1;33m,\u001b[0m\u001b[1;33m\u001b[0m\u001b[1;33m\u001b[0m\u001b[0m\n\u001b[0;32m   1008\u001b[0m             \u001b[0mself\u001b[0m\u001b[1;33m.\u001b[0m\u001b[0m_parent_ident\u001b[0m\u001b[1;33m[\u001b[0m\u001b[1;34m\"shell\"\u001b[0m\u001b[1;33m]\u001b[0m\u001b[1;33m,\u001b[0m\u001b[1;33m\u001b[0m\u001b[1;33m\u001b[0m\u001b[0m\n",
      "\u001b[1;32m~\\anaconda3\\lib\\site-packages\\ipykernel\\kernelbase.py\u001b[0m in \u001b[0;36m_input_request\u001b[1;34m(self, prompt, ident, parent, password)\u001b[0m\n\u001b[0;32m   1049\u001b[0m             \u001b[1;32mexcept\u001b[0m \u001b[0mKeyboardInterrupt\u001b[0m\u001b[1;33m:\u001b[0m\u001b[1;33m\u001b[0m\u001b[1;33m\u001b[0m\u001b[0m\n\u001b[0;32m   1050\u001b[0m                 \u001b[1;31m# re-raise KeyboardInterrupt, to truncate traceback\u001b[0m\u001b[1;33m\u001b[0m\u001b[1;33m\u001b[0m\u001b[0m\n\u001b[1;32m-> 1051\u001b[1;33m                 \u001b[1;32mraise\u001b[0m \u001b[0mKeyboardInterrupt\u001b[0m\u001b[1;33m(\u001b[0m\u001b[1;34m\"Interrupted by user\"\u001b[0m\u001b[1;33m)\u001b[0m \u001b[1;32mfrom\u001b[0m \u001b[1;32mNone\u001b[0m\u001b[1;33m\u001b[0m\u001b[1;33m\u001b[0m\u001b[0m\n\u001b[0m\u001b[0;32m   1052\u001b[0m             \u001b[1;32mexcept\u001b[0m \u001b[0mException\u001b[0m\u001b[1;33m:\u001b[0m\u001b[1;33m\u001b[0m\u001b[1;33m\u001b[0m\u001b[0m\n\u001b[0;32m   1053\u001b[0m                 \u001b[0mself\u001b[0m\u001b[1;33m.\u001b[0m\u001b[0mlog\u001b[0m\u001b[1;33m.\u001b[0m\u001b[0mwarning\u001b[0m\u001b[1;33m(\u001b[0m\u001b[1;34m\"Invalid Message:\"\u001b[0m\u001b[1;33m,\u001b[0m \u001b[0mexc_info\u001b[0m\u001b[1;33m=\u001b[0m\u001b[1;32mTrue\u001b[0m\u001b[1;33m)\u001b[0m\u001b[1;33m\u001b[0m\u001b[1;33m\u001b[0m\u001b[0m\n",
      "\u001b[1;31mKeyboardInterrupt\u001b[0m: Interrupted by user"
     ]
    }
   ],
   "source": [
    "##6. Python – Append content of one text file to another\n",
    "irstfile = input(\"Enter the name of first file \")\n",
    "secondfile = input(\"Enter the name of second file \")\n",
    " \n",
    "# opening both files in read only mode to read initial contents\n",
    "f1 = open(google, 'r')\n",
    "f2 = open(google, 'r')\n",
    " \n",
    "# printing the contents of the file before appending\n",
    "print('content of first file before appending -', f1.read())\n",
    "print('content of second file before appending -', f2.read())\n",
    " \n",
    "# closing the files\n",
    "f1.close()\n",
    "f2.close()\n",
    " \n",
    "# opening first file in append mode and second file in read mode\n",
    "f1 = open(google, 'a+')\n",
    "f2 = open(google, 'r')\n",
    " \n",
    "# appending the contents of the second file to the first file\n",
    "f1.write(f2.read())\n",
    " \n",
    "# relocating the cursor of the files at the beginning\n",
    "f1.seek(0)\n",
    "f2.seek(0)\n",
    " \n",
    "# printing the contents of the files after appendng\n",
    "print('content of first file after appending -', f1.read())\n",
    "print('content of second file after appending -', f2.read())\n",
    " \n",
    "# closing the files\n",
    "f1.close()\n",
    "f2.close()"
   ]
  },
  {
   "cell_type": "code",
   "execution_count": null,
   "id": "2b1996aa",
   "metadata": {},
   "outputs": [],
   "source": [
    "###7. Python program to copy odd lines of one file to other\n",
    "fn = open('google.txt', 'r')\n",
    "  \n",
    "# open other file in write mode\n",
    "fn1 = open('googleupdated.txt', 'w')\n",
    "  \n",
    "# read the content of the file line by line\n",
    "cont = fn.readlines()\n",
    "type(cont)\n",
    "for i in range(0, len(cont)):\n",
    "    if(i % 2 ! = 0):\n",
    "        fn1.write(cont[i])\n",
    "    else:\n",
    "        pass\n",
    "  \n",
    "# close the file\n",
    "fn1.close()\n",
    "  \n",
    "# open file in read mode\n",
    "fn1 = open('google.txt', 'r')\n",
    "  \n",
    "# read the content of the file\n",
    "cont1 = fn1.read()\n",
    "  \n",
    "# print the content of the file\n",
    "print(cont1)\n",
    "  \n",
    "# close all files\n",
    "fn.close()\n",
    "fn1.close()"
   ]
  },
  {
   "cell_type": "code",
   "execution_count": 13,
   "id": "5eb2949c",
   "metadata": {},
   "outputs": [
    {
     "ename": "FileNotFoundError",
     "evalue": "[Errno 2] No such file or directory: 'googleupdated.txt'",
     "output_type": "error",
     "traceback": [
      "\u001b[1;31m---------------------------------------------------------------------------\u001b[0m",
      "\u001b[1;31mFileNotFoundError\u001b[0m                         Traceback (most recent call last)",
      "\u001b[1;32m~\\AppData\\Local\\Temp/ipykernel_9444/2280549458.py\u001b[0m in \u001b[0;36m<module>\u001b[1;34m\u001b[0m\n\u001b[0;32m      7\u001b[0m \u001b[1;33m\u001b[0m\u001b[0m\n\u001b[0;32m      8\u001b[0m \u001b[1;31m# Reading data from file2\u001b[0m\u001b[1;33m\u001b[0m\u001b[1;33m\u001b[0m\u001b[0m\n\u001b[1;32m----> 9\u001b[1;33m \u001b[1;32mwith\u001b[0m \u001b[0mopen\u001b[0m\u001b[1;33m(\u001b[0m\u001b[1;34m'googleupdated.txt'\u001b[0m\u001b[1;33m)\u001b[0m \u001b[1;32mas\u001b[0m \u001b[0mfp\u001b[0m\u001b[1;33m:\u001b[0m\u001b[1;33m\u001b[0m\u001b[1;33m\u001b[0m\u001b[0m\n\u001b[0m\u001b[0;32m     10\u001b[0m     \u001b[0mdata2\u001b[0m \u001b[1;33m=\u001b[0m \u001b[0mfp\u001b[0m\u001b[1;33m.\u001b[0m\u001b[0mread\u001b[0m\u001b[1;33m(\u001b[0m\u001b[1;33m)\u001b[0m\u001b[1;33m\u001b[0m\u001b[1;33m\u001b[0m\u001b[0m\n\u001b[0;32m     11\u001b[0m \u001b[1;33m\u001b[0m\u001b[0m\n",
      "\u001b[1;31mFileNotFoundError\u001b[0m: [Errno 2] No such file or directory: 'googleupdated.txt'"
     ]
    }
   ],
   "source": [
    "\n",
    "##8. Python Program to merge two files into a third file\n",
    "data = data2 = \"\"\n",
    "  \n",
    "# Reading data from file1\n",
    "with open('google.txt') as fp:\n",
    "    data = fp.read()\n",
    "  \n",
    "# Reading data from file2\n",
    "with open('googleupdated.txt') as fp:\n",
    "    data2 = fp.read()\n",
    "  \n",
    "# Merging 2 files\n",
    "# To add the data of file2\n",
    "# from next line\n",
    "data += \"\\n\"\n",
    "data += data2\n",
    "  \n",
    "with open ('file3.txt', 'w') as fp:\\\n",
    "    fp.write(data)"
   ]
  },
  {
   "cell_type": "code",
   "execution_count": 14,
   "id": "b1fd1eac",
   "metadata": {},
   "outputs": [
    {
     "ename": "IndexError",
     "evalue": "list index out of range",
     "output_type": "error",
     "traceback": [
      "\u001b[1;31m---------------------------------------------------------------------------\u001b[0m",
      "\u001b[1;31mIndexError\u001b[0m                                Traceback (most recent call last)",
      "\u001b[1;32m~\\AppData\\Local\\Temp/ipykernel_9444/1860041623.py\u001b[0m in \u001b[0;36m<module>\u001b[1;34m\u001b[0m\n\u001b[0;32m     13\u001b[0m \u001b[1;33m\u001b[0m\u001b[0m\n\u001b[0;32m     14\u001b[0m \u001b[1;31m# Split the line into words\u001b[0m\u001b[1;33m\u001b[0m\u001b[1;33m\u001b[0m\u001b[0m\n\u001b[1;32m---> 15\u001b[1;33m \u001b[0mline\u001b[0m \u001b[1;33m=\u001b[0m \u001b[0mlines\u001b[0m\u001b[1;33m[\u001b[0m\u001b[0mchoice\u001b[0m\u001b[1;33m]\u001b[0m\u001b[1;33m.\u001b[0m\u001b[0msplit\u001b[0m\u001b[1;33m(\u001b[0m\u001b[1;33m)\u001b[0m\u001b[1;33m\u001b[0m\u001b[1;33m\u001b[0m\u001b[0m\n\u001b[0m\u001b[0;32m     16\u001b[0m \u001b[1;33m\u001b[0m\u001b[0m\n\u001b[0;32m     17\u001b[0m \u001b[1;31m# line is reversed\u001b[0m\u001b[1;33m\u001b[0m\u001b[1;33m\u001b[0m\u001b[0m\n",
      "\u001b[1;31mIndexError\u001b[0m: list index out of range"
     ]
    }
   ],
   "source": [
    "##9. Python program to Reverse a single line of a text file\n",
    "f = open('google.txt', 'r')\n",
    "  \n",
    "# Read the content of the\n",
    "# file and store it in a list\n",
    "lines = f.readlines()\n",
    "      \n",
    "# Close file\n",
    "f.close()\n",
    "  \n",
    "# User's choice\n",
    "choice = 1\n",
    "  \n",
    "# Split the line into words \n",
    "line = lines[choice].split()\n",
    "  \n",
    "# line is reversed\n",
    "Reversed = \" \".join(line[::-1])\n",
    "  \n",
    "# Updating the content of the\n",
    "# file\n",
    "lines.pop(choice)\n",
    "lines.insert(choice, Reversed)\n",
    "  \n",
    "# Open file in write mode\n",
    "u = open('google.txt', 'w')\n",
    "  \n",
    "# Write the new content in file\n",
    "# and note, it is overwritten \n",
    "u.writelines(lines)\n",
    "u.close()"
   ]
  },
  {
   "cell_type": "code",
   "execution_count": null,
   "id": "f54af23b",
   "metadata": {},
   "outputs": [],
   "source": [
    "##10. Python program to reverse the content of a file and store it in another file\n",
    "f1 = open(\"output1.txt\", \"w\")\n",
    "  \n",
    "# Open the input file and get \n",
    "# the content into a variable data\n",
    "with open(\"file.txt\", \"r\") as myfile:\n",
    "    data = myfile.read()\n",
    "  \n",
    "# For Full Reversing we will store the \n",
    "# value of data into new variable data_1 \n",
    "# in a reverse order using [start: end: step],\n",
    "# where step when passed -1 will reverse \n",
    "# the string\n",
    "data_1 = data[::-1]\n",
    "  \n",
    "# Now we will write the fully reverse \n",
    "# data in the output1 file using \n",
    "# following command\n",
    "f1.write(data_1)\n",
    "  \n",
    "f1.close()\n"
   ]
  },
  {
   "cell_type": "code",
   "execution_count": null,
   "id": "015a10ce",
   "metadata": {},
   "outputs": [],
   "source": []
  }
 ],
 "metadata": {
  "kernelspec": {
   "display_name": "Python 3 (ipykernel)",
   "language": "python",
   "name": "python3"
  },
  "language_info": {
   "codemirror_mode": {
    "name": "ipython",
    "version": 3
   },
   "file_extension": ".py",
   "mimetype": "text/x-python",
   "name": "python",
   "nbconvert_exporter": "python",
   "pygments_lexer": "ipython3",
   "version": "3.9.7"
  }
 },
 "nbformat": 4,
 "nbformat_minor": 5
}
