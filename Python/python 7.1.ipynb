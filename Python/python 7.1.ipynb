{
 "cells": [
  {
   "cell_type": "code",
   "execution_count": 1,
   "id": "736d9157",
   "metadata": {},
   "outputs": [],
   "source": [
    "###1. Reverse words in a given String in Python\n",
    "def rev_sentence(sentence):\n",
    "    # first split the string into words\n",
    "    words = sentence.split(' ')\n",
    "    # then reverse the split string list and join using space\n",
    "    reverse_sentence = ' '.join(reversed(words))\n",
    "    # finally return the joined string\n",
    "    return reverse_sentence\n",
    "    if __name__ == \"__main__\":\n",
    "        input = 'geeks quiz practice code'\n",
    "        print (rev_sentence(input))"
   ]
  },
  {
   "cell_type": "code",
   "execution_count": 4,
   "id": "830a83ae",
   "metadata": {},
   "outputs": [
    {
     "name": "stdout",
     "output_type": "stream",
     "text": [
      "The original string is : BusinessAnalytics\n",
      "The string after removal of i'th character : B\n",
      "The string after removal of i'th character : Bu\n",
      "The string after removal of i'th character : Bui\n",
      "The string after removal of i'th character : Buin\n",
      "The string after removal of i'th character : Buine\n",
      "The string after removal of i'th character : Buines\n",
      "The string after removal of i'th character : Buiness\n",
      "The string after removal of i'th character : BuinessA\n",
      "The string after removal of i'th character : BuinessAn\n",
      "The string after removal of i'th character : BuinessAna\n",
      "The string after removal of i'th character : BuinessAnal\n",
      "The string after removal of i'th character : BuinessAnaly\n",
      "The string after removal of i'th character : BuinessAnalyt\n",
      "The string after removal of i'th character : BuinessAnalyti\n",
      "The string after removal of i'th character : BuinessAnalytic\n",
      "The string after removal of i'th character : BuinessAnalytics\n"
     ]
    }
   ],
   "source": [
    "####2. Ways to remove i’th character from string in Python\n",
    "test_str = \"BusinessAnalytics\"\n",
    "# Printing original string\n",
    "print (\"The original string is : \" + test_str)\n",
    "# Removing char at pos 3\n",
    "# using loop\n",
    "new_str = \"\"\n",
    "for i in range(len(test_str)):\n",
    "    if i != 2:\n",
    "        new_str = new_str + test_str[i]\n",
    "        # Printing string after removal\n",
    "        print (\"The string after removal of i'th character : \" + new_str)"
   ]
  },
  {
   "cell_type": "code",
   "execution_count": 5,
   "id": "b1350336",
   "metadata": {},
   "outputs": [
    {
     "name": "stdout",
     "output_type": "stream",
     "text": [
      "YES\n"
     ]
    }
   ],
   "source": [
    "###3. Python | Check if a Substring is Present in a Given String\n",
    "def check(string, sub_str):\n",
    "    if (string.find(sub_str) == -1):\n",
    "        print(\"NO\")\n",
    "    else:\n",
    "        print(\"YES\")\n",
    "# driver code\n",
    "\n",
    "string = \"geeks for geeks\"\n",
    "\n",
    "sub_str =\"geek\"\n",
    "\n",
    "check(string, sub_str)"
   ]
  },
  {
   "cell_type": "code",
   "execution_count": 6,
   "id": "bfb83e3f",
   "metadata": {},
   "outputs": [
    {
     "name": "stdout",
     "output_type": "stream",
     "text": [
      "I want to be a Business Analyst\n",
      "Words in the string\n",
      "{'I': 1, 'want': 1, 'to': 1, 'be': 1, 'a': 3, 'Business': 1, 'Analyst': 1}\n"
     ]
    }
   ],
   "source": [
    "####4. Python – Words Frequency in String Shorthands\n",
    "string=\"I want to be a Business Analyst\"\n",
    "print(string)\n",
    "# dictionary and count() and split()\n",
    "word= {key: string.count(key) for key in string.split()}\n",
    "# print result\n",
    "print(\"Words in the string\")\n",
    "print(word)"
   ]
  },
  {
   "cell_type": "code",
   "execution_count": 7,
   "id": "2c68ca36",
   "metadata": {},
   "outputs": [
    {
     "name": "stdout",
     "output_type": "stream",
     "text": [
      "The original string is : geeksforgeeks_is_best\n",
      "The String after changing case : GeeksforgeeksIsBest\n"
     ]
    }
   ],
   "source": [
    "####5. Python – Convert Snake case to Pascal case\n",
    "test_str = 'geeksforgeeks_is_best'\n",
    "# printing original string\n",
    "print(\"The original string is : \" + test_str)\n",
    "# Convert Snake case to Pascal case\n",
    "# Using title() + replace()\n",
    "res = test_str.replace(\"_\", \" \").title().replace(\" \", \"\")\n",
    "# printing result\n",
    "print(\"The String after changing case : \" + str(res))"
   ]
  },
  {
   "cell_type": "code",
   "execution_count": 8,
   "id": "a010547e",
   "metadata": {},
   "outputs": [
    {
     "name": "stdout",
     "output_type": "stream",
     "text": [
      "7\n"
     ]
    }
   ],
   "source": [
    "###6. Find the length of a string in python (4 ways)\n",
    "# Python code to demonstrate string length\n",
    "# using len\n",
    "str = \"Supriyo\"\n",
    "print(len(str))"
   ]
  },
  {
   "cell_type": "code",
   "execution_count": 9,
   "id": "76cec260",
   "metadata": {},
   "outputs": [
    {
     "name": "stdout",
     "output_type": "stream",
     "text": [
      "am\n",
      "muskan\n"
     ]
    }
   ],
   "source": [
    "###7. Python program to print even length words in a string\n",
    "# Python3 program to print\n",
    "# even length words in a string\n",
    "def printWords(s):\n",
    "    # split the string\n",
    "    s = s.split(' ')\n",
    "    # iterate in words of string\n",
    "    for word in s:\n",
    "    # if length is even\n",
    "        if len(word)%2==0:\n",
    "             print(word)\n",
    "# Driver Code\n",
    "s = \"i am muskan\"\n",
    "printWords(s)"
   ]
  },
  {
   "cell_type": "code",
   "execution_count": 11,
   "id": "a081cd5c",
   "metadata": {},
   "outputs": [
    {
     "name": "stdout",
     "output_type": "stream",
     "text": [
      "Not Accepted\n",
      "Not Accepted\n",
      "Not Accepted\n",
      "Not Accepted\n",
      "Not Accepted\n",
      "Not Accepted\n",
      "Not Accepted\n",
      "Accepted\n",
      "Accepted\n"
     ]
    }
   ],
   "source": [
    "###8. Python program to accept the strings which contain all vowels\n",
    "def check(string) :\n",
    "    string = string.lower()\n",
    "    # i.e.vowels = {'a', 'e', 'i', 'o', 'u'}\n",
    "    vowels = set(\"aeiou\")\n",
    "    # set() function convert empty\n",
    "    # dictionary into empty set\n",
    "    s = set({})\n",
    "    # looping through each\n",
    "    # character of the string\n",
    "    for char in string :\n",
    "        if char in vowels :\n",
    "            s.add(char)\n",
    "        else:\n",
    "            pass\n",
    "        if len(s) == len(vowels) :\n",
    "            print(\"Accepted\")\n",
    "        else :\n",
    "            print(\"Not Accepted\")\n",
    "# Driver code\n",
    "if __name__ == \"__main__\" :\n",
    "    string = \"SEEquoiaL\"\n",
    "# calling function\n",
    "    check(string)"
   ]
  },
  {
   "cell_type": "code",
   "execution_count": null,
   "id": "2df65619",
   "metadata": {},
   "outputs": [],
   "source": [
    "###9. Python | Count the Number of matching characters in a pair of string\n",
    "def count(s1, s2):\n",
    "    c=0 #counter variable\n",
    "    j=0\n",
    "    for i in s1:\n",
    "        if s2.find(i)>-0 and j==s1.find(i):\n",
    "        c=c+1\n",
    "        j=j+1\n",
    "        print(\"Matching char: \",c)\n",
    "        s1=\"aabcdefk12\"\n",
    "        s2=\"b2acdefk1\"\n",
    "        count(s1,s2)"
   ]
  }
 ],
 "metadata": {
  "kernelspec": {
   "display_name": "Python 3 (ipykernel)",
   "language": "python",
   "name": "python3"
  },
  "language_info": {
   "codemirror_mode": {
    "name": "ipython",
    "version": 3
   },
   "file_extension": ".py",
   "mimetype": "text/x-python",
   "name": "python",
   "nbconvert_exporter": "python",
   "pygments_lexer": "ipython3",
   "version": "3.9.7"
  }
 },
 "nbformat": 4,
 "nbformat_minor": 5
}
