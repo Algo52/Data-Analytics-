{
 "cells": [
  {
   "cell_type": "code",
   "execution_count": 1,
   "id": "cc28de51",
   "metadata": {},
   "outputs": [
    {
     "name": "stdout",
     "output_type": "stream",
     "text": [
      "The original string is : Anything for Business Analytics\n",
      "The minimum of all characters is : h\n"
     ]
    }
   ],
   "source": [
    "####1. Python – Least Frequent Character in String\n",
    "test_str = \"Anything for Business Analytics\"\n",
    "print (\"The original string is : \" + test_str)\n",
    "all_freq = {}\n",
    "for i in test_str:\n",
    "    if i in all_freq:\n",
    "        all_freq[i] += 1\n",
    "    else:\n",
    "        all_freq[i] = 1\n",
    "        res = min(all_freq, key = all_freq.get)\n",
    "# printing result\n",
    "print (\"The minimum of all characters is : \" + str(res))"
   ]
  },
  {
   "cell_type": "code",
   "execution_count": 2,
   "id": "5669f197",
   "metadata": {},
   "outputs": [
    {
     "name": "stdout",
     "output_type": "stream",
     "text": [
      "The original string is : Anythingforbusinessanalytics\n",
      "The maximum of all characters is: n\n"
     ]
    }
   ],
   "source": [
    "####2. Python | Maximum frequency character in String\n",
    "test_str = \"Anythingforbusinessanalytics\"\n",
    "# printing original string\n",
    "print (\"The original string is : \" + test_str)\n",
    "all_freq = {}\n",
    "for i in test_str:\n",
    "    if i in all_freq:\n",
    "        all_freq[i] += 1\n",
    "    else:\n",
    "        all_freq[i] = 1\n",
    "        res = max(all_freq, key = all_freq.get)\n",
    "# printing result\n",
    "print (\"The maximum of all characters is: \" + str(res))"
   ]
  },
  {
   "cell_type": "code",
   "execution_count": 5,
   "id": "5995bb30",
   "metadata": {},
   "outputs": [
    {
     "name": "stdout",
     "output_type": "stream",
     "text": [
      "String is not accepted.\n"
     ]
    }
   ],
   "source": [
    "###3. Python | Program to check if a string contains any special character\n",
    "import re\n",
    "def run(string):\n",
    "    regex = re.compile('[@_!#$%^&*()<>?/\\|}{~:]')\n",
    "    if(regex.search(string) == None):\n",
    "        print(\"String is accepted\")\n",
    "    else:\n",
    "        print(\"String is not accepted.\")\n",
    "# Driver Code\n",
    "if __name__ == '__main__' :\n",
    "# Enter the string\n",
    "    string = \"Supriyo$For$Sassy\"\n",
    "    # calling run function\n",
    "    run(string)"
   ]
  },
  {
   "cell_type": "code",
   "execution_count": 14,
   "id": "4422d94c",
   "metadata": {},
   "outputs": [
    {
     "ename": "IndentationError",
     "evalue": "unexpected indent (Temp/ipykernel_14532/1034619471.py, line 9)",
     "output_type": "error",
     "traceback": [
      "\u001b[1;36m  File \u001b[1;32m\"C:\\Users\\Hemanth\\AppData\\Local\\Temp/ipykernel_14532/1034619471.py\"\u001b[1;36m, line \u001b[1;32m9\u001b[0m\n\u001b[1;33m    my_attemptNext = \" \"\u001b[0m\n\u001b[1;37m    ^\u001b[0m\n\u001b[1;31mIndentationError\u001b[0m\u001b[1;31m:\u001b[0m unexpected indent\n"
     ]
    }
   ],
   "source": [
    "####4. Generating random strings until a given string is generated\n",
    "import string\n",
    "import random\n",
    "import time\n",
    "my_possibleCharacters =( string.ascii_lowercase + string.digits +string.ascii_uppercase + ' ., !?;:')\n",
    "t = \"ab\"\n",
    "my_attemptThis = ''.join(random.choice(my_possibleCharacters)\n",
    "for i in range(len(t)))\n",
    "        my_attemptNext = \" \"\n",
    "        com = False\n",
    "        iteration = 0\n",
    "        # Iterate while completed is false\n",
    "        while com == False:\n",
    "            print(my_attemptThis)\n",
    "            my_attemptNext = ''\n",
    "            com = True\n",
    "            for i in range(len(t)):\n",
    "                if my_attemptThis[i] != t[i]:\n",
    "                    com = False\n",
    "                    my_attemptNext += random.choice(my_possibleCharacters)\n",
    "                else:\n",
    "                    my_attemptNext += t[i]\n",
    "                    # increment the iteration\n",
    "                    iteration += 1\n",
    "                    my_attemptThis = my_attemptNext\n",
    "                    time.sleep(0.1)\n",
    "# Driver Code\n",
    "print(\"String matched after \" + str(iteration) + \" iterations\")\n"
   ]
  },
  {
   "cell_type": "code",
   "execution_count": 15,
   "id": "7f397416",
   "metadata": {},
   "outputs": [
    {
     "name": "stdout",
     "output_type": "stream",
     "text": [
      "['geek']\n"
     ]
    }
   ],
   "source": [
    "#####5. Find words that are greater than the given length k\n",
    "def string_k(k, str):\n",
    "    string = []\n",
    "    text = str.split(\" \")\n",
    "    for x in text:\n",
    "        if len(x) > k:\n",
    "            string.append(x)\n",
    "            return string\n",
    "# Driver Program\n",
    "k = 3\n",
    "str =\"geek for geeks\"\n",
    "print(string_k(k, str))"
   ]
  },
  {
   "cell_type": "code",
   "execution_count": 17,
   "id": "e7ed577b",
   "metadata": {},
   "outputs": [
    {
     "name": "stdout",
     "output_type": "stream",
     "text": [
      "Suprio$For$Sassy\n"
     ]
    }
   ],
   "source": [
    "####6. Python program for removing i-th character from a string\n",
    "def remove(string, i):\n",
    "    a = string[ : i]\n",
    "    b = string[i + 1: ]\n",
    "    return a + b\n",
    "    if __name__ == '__main__':\n",
    "        string = \"Supriyo\"\n",
    "# Remove nth index element\n",
    "i = 5\n",
    "    # Print the new string\n",
    "print(remove(string, i))"
   ]
  },
  {
   "cell_type": "code",
   "execution_count": 19,
   "id": "32072f6c",
   "metadata": {},
   "outputs": [
    {
     "name": "stdout",
     "output_type": "stream",
     "text": [
      "['Supriyo']\n"
     ]
    },
    {
     "ename": "NameError",
     "evalue": "name 'join_string' is not defined",
     "output_type": "error",
     "traceback": [
      "\u001b[1;31m---------------------------------------------------------------------------\u001b[0m",
      "\u001b[1;31mNameError\u001b[0m                                 Traceback (most recent call last)",
      "\u001b[1;32m~\\AppData\\Local\\Temp/ipykernel_14532/3562764319.py\u001b[0m in \u001b[0;36m<module>\u001b[1;34m\u001b[0m\n\u001b[0;32m     15\u001b[0m     \u001b[0mprint\u001b[0m\u001b[1;33m(\u001b[0m\u001b[0mlist_string\u001b[0m\u001b[1;33m)\u001b[0m\u001b[1;33m\u001b[0m\u001b[1;33m\u001b[0m\u001b[0m\n\u001b[0;32m     16\u001b[0m     \u001b[1;31m# Join list of strings into one\u001b[0m\u001b[1;33m\u001b[0m\u001b[1;33m\u001b[0m\u001b[0m\n\u001b[1;32m---> 17\u001b[1;33m     \u001b[0mnew_string\u001b[0m \u001b[1;33m=\u001b[0m \u001b[0mjoin_string\u001b[0m\u001b[1;33m(\u001b[0m\u001b[0mlist_string\u001b[0m\u001b[1;33m)\u001b[0m\u001b[1;33m\u001b[0m\u001b[1;33m\u001b[0m\u001b[0m\n\u001b[0m\u001b[0;32m     18\u001b[0m     \u001b[0mprint\u001b[0m\u001b[1;33m(\u001b[0m\u001b[0mnew_string\u001b[0m\u001b[1;33m)\u001b[0m\u001b[1;33m\u001b[0m\u001b[1;33m\u001b[0m\u001b[0m\n",
      "\u001b[1;31mNameError\u001b[0m: name 'join_string' is not defined"
     ]
    }
   ],
   "source": [
    "####7. Python program to split and join a string\n",
    "def split_string(string):\n",
    "    # Split the string based on space delimiter\n",
    "    list_string = string.split(' ')\n",
    "    return list_string\n",
    "    def join_string(list_string):\n",
    "        # Join the string based on '-' delimiter\n",
    "        string = '-'.join(list_string)\n",
    "        return string\n",
    "# Driver Function\n",
    "if __name__ == '__main__':\n",
    "    string = 'Supriyo'\n",
    "    # Splitting a string\n",
    "    list_string = split_string(string)\n",
    "    print(list_string)\n",
    "    # Join list of strings into one\n",
    "    new_string = join_string(list_string)\n",
    "    print(new_string)"
   ]
  },
  {
   "cell_type": "code",
   "execution_count": 20,
   "id": "648f7b87",
   "metadata": {},
   "outputs": [
    {
     "name": "stdout",
     "output_type": "stream",
     "text": [
      "StringA is a binary string.\n"
     ]
    }
   ],
   "source": [
    "####8. Python | Check if a given string is a binary string or not\n",
    "stringA = '0110101010111'\n",
    "b = {'0','1'}\n",
    "t = set(stringA)\n",
    "if b == t or t == {'0'} or t == {'1'}:\n",
    "    print(\"StringA is a binary string.\")\n",
    "else:\n",
    "    print(\"StringA is not a binary string.\")\n",
    "    stringB = '0120101010111'\n",
    "    u = set(stringB)\n",
    "    if b == u or u == {'0'} or u == {'1'}:\n",
    "        print(\"StringB is a binary string.\")\n",
    "    else:\n",
    "        print(\"StringB is not a binary string.\")"
   ]
  },
  {
   "cell_type": "code",
   "execution_count": null,
   "id": "39be44b1",
   "metadata": {},
   "outputs": [],
   "source": []
  }
 ],
 "metadata": {
  "kernelspec": {
   "display_name": "Python 3 (ipykernel)",
   "language": "python",
   "name": "python3"
  },
  "language_info": {
   "codemirror_mode": {
    "name": "ipython",
    "version": 3
   },
   "file_extension": ".py",
   "mimetype": "text/x-python",
   "name": "python",
   "nbconvert_exporter": "python",
   "pygments_lexer": "ipython3",
   "version": "3.9.7"
  }
 },
 "nbformat": 4,
 "nbformat_minor": 5
}
