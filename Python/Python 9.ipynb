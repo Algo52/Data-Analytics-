{
 "cells": [
  {
   "cell_type": "code",
   "execution_count": 1,
   "id": "0ee114e2",
   "metadata": {},
   "outputs": [
    {
     "name": "stdout",
     "output_type": "stream",
     "text": [
      "The original string is : Studytonight has best tutorials in python\n",
      "String after multiple replace : Studytonight has k k in k\n"
     ]
    }
   ],
   "source": [
    "###1. Python – Replace multiple words with K\n",
    "test_string = 'Studytonight has best tutorials in python'\n",
    "print(\"The original string is : \" + str(test_string))\n",
    "word_list = [\"best\", 'tutorials', 'python']\n",
    "replace_word = 'k'\n",
    "replaced_string = ' '.join([replace_word if i in word_list else i for i in\n",
    "test_string.split()])\n",
    "print(\"String after multiple replace : \" + str(replaced_string))"
   ]
  },
  {
   "cell_type": "code",
   "execution_count": 3,
   "id": "e0819032",
   "metadata": {},
   "outputs": [
    {
     "name": "stdout",
     "output_type": "stream",
     "text": [
      "ABC\n",
      "ACB\n",
      "BAC\n",
      "BCA\n",
      "CAB\n",
      "CBA\n"
     ]
    }
   ],
   "source": [
    "####2. Python | Permutation of a given string using an inbuilt function\n",
    "from itertools import permutations\n",
    "def allPermutations(str):\n",
    "    # Get all permutations of string 'ABC'\n",
    "    permList = permutations(str)\n",
    "    # print all permutations\n",
    "    for perm in list(permList):\n",
    "        print (''.join(perm))\n",
    "# Driver program\n",
    "if __name__ == \"__main__\":\n",
    "    str = 'ABC'\n",
    "    allPermutations(str)"
   ]
  },
  {
   "cell_type": "code",
   "execution_count": 7,
   "id": "0d1d8b0c",
   "metadata": {},
   "outputs": [],
   "source": [
    "####3. Python | Check for URL in a String\n",
    "import re\n",
    "def Find(string):\n",
    "# findall() has been used\n",
    "# with valid conditions for urls in string\n",
    "    regex =r\"(?i)\\b((?:https?://|www\\d{0,3}[.]|[a-z0-9.\\-]+[.][a-z]{2,4}/)(?:[^\\s()<>]+|\\(([^\\s()<>]+|(\\([^\\s()<>]+\\)))*\\))+(?:\\(([^\\s()<>]+|(\\([^\\s()<>]+\\)))*\\)|[^\\s`!()\\[\\]{};:'\\\".,<>?«»“”‘’]))\"\n",
    "    url = re.findall(regex,string)\n",
    "    return [x[0] for x in url]"
   ]
  },
  {
   "cell_type": "code",
   "execution_count": 10,
   "id": "b17baf7e",
   "metadata": {},
   "outputs": [],
   "source": [
    "###4. Execute a String of Code in Python\n",
    "def exec_code():\n",
    "    LOC = \"\"\"\n",
    "    def factorial(num):\n",
    "    fact=1\n",
    "    for i in range(1,num+1):\n",
    "    fact = fact*i\n",
    "    return fact\n",
    "    print(factorial(5))\n",
    "    \"\"\"\n",
    "    exec(LOC)\n"
   ]
  },
  {
   "cell_type": "code",
   "execution_count": 12,
   "id": "db6c2858",
   "metadata": {},
   "outputs": [
    {
     "name": "stdout",
     "output_type": "stream",
     "text": [
      "Left Rotation :  eksforGeeksGe\n",
      "Right Rotation :  ksGeeksforGee\n"
     ]
    }
   ],
   "source": [
    "####5. String slicing in Python to rotate a string\n",
    "def rotate(input,d):\n",
    "    # slice string in two parts for left and right\n",
    "    Lfirst = input[0 : d]\n",
    "    Lsecond = input[d :]\n",
    "    Rfirst = input[0 : len(input)-d]\n",
    "    Rsecond = input[len(input)-d : ]\n",
    "    # now concatenate two parts together\n",
    "    print (\"Left Rotation : \", (Lsecond + Lfirst) )\n",
    "    print (\"Right Rotation : \", (Rsecond + Rfirst))\n",
    "# Driver program\n",
    "if __name__ == \"__main__\":\n",
    "    input = 'GeeksforGeeks'\n",
    "    d=2\n",
    "    rotate(input,d)\n"
   ]
  },
  {
   "cell_type": "code",
   "execution_count": 13,
   "id": "9b13b642",
   "metadata": {},
   "outputs": [],
   "source": [
    "###6. String slicing in Python to check if a string can become empty by recursive deletion\n",
    "def checkEmpty(input, pattern):\n",
    "\n",
    "    if len(input)== 0 and len(pattern)== 0:\n",
    "        return 'true'\n",
    "    # If only pattern is empty\n",
    "        if len(pattern)== 0:\n",
    "            return 'true'\n",
    "        while (len(input) != 0):\n",
    "            # find sub-string in main string\n",
    "            index = input.find(pattern)\n",
    "            # check if sub-string founded or not\n",
    "            if (index ==(-1)):\n",
    "                return 'false'\n",
    "            # slice input string in two parts and concatenate\n",
    "            input = input[0:index] + input[index + len(pattern):]\n",
    "            return 'true'\n"
   ]
  },
  {
   "cell_type": "code",
   "execution_count": 14,
   "id": "1dd3d663",
   "metadata": {},
   "outputs": [
    {
     "name": "stdout",
     "output_type": "stream",
     "text": [
      "t\n",
      "t o\n",
      "t o i\n"
     ]
    }
   ],
   "source": [
    "####7. Python Counter| Find all duplicate characters in a string\n",
    "string = \"tutorialspoint\"\n",
    "duplicates = []\n",
    "for char in string:\n",
    "     if string.count(char) > 1:\n",
    "## appending to the list if it's already not present\n",
    "        if char not in duplicates:\n",
    "            duplicates.append(char)\n",
    "            print(*duplicates)"
   ]
  },
  {
   "cell_type": "code",
   "execution_count": 16,
   "id": "1a5b843d",
   "metadata": {},
   "outputs": [
    {
     "name": "stdout",
     "output_type": "stream",
     "text": [
      "The original string is : geeksforgeeks\n"
     ]
    }
   ],
   "source": [
    "#####8. Python – Replace all occurrences of a substring in a string\n",
    "test_str = \"geeksforgeeks\"\n",
    "# printing original string\n",
    "print(\"The original string is : \" + test_str)\n",
    "temp = str.maketrans(\"geek\", \"abcd\")\n",
    "test_str = test_str.translate(temp)\n"
   ]
  },
  {
   "cell_type": "code",
   "execution_count": 17,
   "id": "5b34e805",
   "metadata": {},
   "outputs": [
    {
     "name": "stdout",
     "output_type": "stream",
     "text": [
      "The original dictionary is :  {'A': [1, 3, 5, 4], 'B': [4, 6, 8, 10], 'C': [6, 12, 4, 8], 'D': [5, 7, 2]}\n",
      "The unique values list is :  [1, 2, 3, 4, 5, 6, 7, 8, 10, 12]\n"
     ]
    }
   ],
   "source": [
    "####9. Python – Extract Unique values dictionary values\n",
    "dict1 = {'A' : [1, 3, 5, 4],\n",
    "'B' : [4, 6, 8, 10],\n",
    "'C' : [6, 12, 4 ,8],\n",
    "'D' : [5, 7, 2]}\n",
    "print(\"The original dictionary is : \" ,dict1)\n",
    "# Using list comprehension, values() and sorted()\n",
    "res = list(sorted({ele for val in dict1.values() for ele in val}))\n",
    "# print result\n",
    "print(\"The unique values list is : \" , res)"
   ]
  },
  {
   "cell_type": "code",
   "execution_count": null,
   "id": "0c267ec5",
   "metadata": {},
   "outputs": [],
   "source": [
    "###10.Python program to find the sum of all items in a dictionary\n",
    "def returnSum(myDict):\n",
    "list = []\n",
    "for i in myDict:\n",
    "list.append(myDict[i])\n",
    "final = sum(list)\n",
    "return final\n",
    "# Driver Function\n",
    "dict = {'a': 100, 'b': 200, 'c': 300}\n",
    "print(\"Sum :\", returnSum(dict))"
   ]
  }
 ],
 "metadata": {
  "kernelspec": {
   "display_name": "Python 3 (ipykernel)",
   "language": "python",
   "name": "python3"
  },
  "language_info": {
   "codemirror_mode": {
    "name": "ipython",
    "version": 3
   },
   "file_extension": ".py",
   "mimetype": "text/x-python",
   "name": "python",
   "nbconvert_exporter": "python",
   "pygments_lexer": "ipython3",
   "version": "3.9.7"
  }
 },
 "nbformat": 4,
 "nbformat_minor": 5
}
