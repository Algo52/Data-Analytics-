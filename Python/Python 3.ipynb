{
 "cells": [
  {
   "cell_type": "code",
   "execution_count": 5,
   "id": "d39eb3ea",
   "metadata": {},
   "outputs": [
    {
     "name": "stdout",
     "output_type": "stream",
     "text": [
      "1\n"
     ]
    }
   ],
   "source": [
    "####1. Python Program for Find reminder of array multiplication divided by n\n",
    "def findremainder(arr, lens, n):\n",
    "    mul = 1\n",
    "    for i in range(lens):\n",
    "        mul = (mul * (arr[i] % n)) % n\n",
    "        return mul % n\n",
    "        # Driven code\n",
    "arr = [ 100, 10, 5, 25, 35, 14 ]\n",
    "lens = len(arr)\n",
    "n = 11\n",
    "print( findremainder(arr, lens, n))"
   ]
  },
  {
   "cell_type": "code",
   "execution_count": 4,
   "id": "d76c7406",
   "metadata": {},
   "outputs": [
    {
     "name": "stdout",
     "output_type": "stream",
     "text": [
      "True\n"
     ]
    }
   ],
   "source": [
    "###2. Python Program to check if the given array is Monotonic\n",
    "def isMonotonic(A):\n",
    "    return (all(A[i] <= A[i + 1] for i in range(len(A) - 1)) or\n",
    "    all(A[i] >= A[i + 1] for i in range(len(A) - 1)))\n",
    "    # Driver program\n",
    "A = [6, 5, 4, 4]\n",
    "    # Print required result\n",
    "print(isMonotonic(A))"
   ]
  },
  {
   "cell_type": "code",
   "execution_count": 3,
   "id": "50d479c5",
   "metadata": {},
   "outputs": [
    {
     "name": "stdout",
     "output_type": "stream",
     "text": [
      "[24, 35, 9, 56, 12]\n"
     ]
    }
   ],
   "source": [
    "####3. Python program to interchange first and last elements in a list\n",
    "def swapList(newList):\n",
    "    size = len(newList)\n",
    "    # Swapping\n",
    "    temp = newList[0]\n",
    "    newList[0] = newList[size - 1]\n",
    "    newList[size - 1] = temp\n",
    "    return newList\n",
    "# Driver code\n",
    "newList = [12, 35, 9, 56, 24]\n",
    "print(swapList(newList))"
   ]
  },
  {
   "cell_type": "code",
   "execution_count": 6,
   "id": "41a615d2",
   "metadata": {},
   "outputs": [
    {
     "name": "stdout",
     "output_type": "stream",
     "text": [
      "[19, 65, 23, 90]\n"
     ]
    }
   ],
   "source": [
    "####4. Python program to swap two elements in a list\n",
    "def swapPositions(list, pos1, pos2):\n",
    "    list[pos1], list[pos2] = list[pos2], list[pos1]\n",
    "    return list\n",
    "# Driver function\n",
    "List = [23, 65, 19, 90]\n",
    "pos1, pos2 = 1, 3\n",
    "print(swapPositions(List, pos1-1, pos2-1))"
   ]
  },
  {
   "cell_type": "code",
   "execution_count": 7,
   "id": "5c66d098",
   "metadata": {},
   "outputs": [
    {
     "name": "stdout",
     "output_type": "stream",
     "text": [
      "The length of list is:  4\n"
     ]
    }
   ],
   "source": [
    "####5. write a program to find the length of the list\n",
    "a = []\n",
    "a.append(\"Hello\")\n",
    "a.append(\"Guys\")\n",
    "a.append(\"how\")\n",
    "a.append(\"are you\")\n",
    "print(\"The length of list is: \", len(a))\n"
   ]
  },
  {
   "cell_type": "code",
   "execution_count": 8,
   "id": "628aedae",
   "metadata": {},
   "outputs": [
    {
     "name": "stdout",
     "output_type": "stream",
     "text": [
      "Checking if 15 exists in list\n",
      "Yes, 15 exists in list\n"
     ]
    }
   ],
   "source": [
    "####6. write a program to check if an element exists in the list\n",
    "# Initializing list\n",
    "test_list = [10, 15, 20, 7, 46, 2808]\n",
    "print(\"Checking if 15 exists in list\")\n",
    "# number of times element exists in list\n",
    "exist_count = test_list.count(15)\n",
    "# checking if it is more then 0\n",
    "if exist_count > 0:\n",
    "    print(\"Yes, 15 exists in list\")\n",
    "else:\n",
    "     print(\"No, 15 does not exists in list\")"
   ]
  },
  {
   "cell_type": "code",
   "execution_count": 9,
   "id": "b436ef18",
   "metadata": {},
   "outputs": [
    {
     "name": "stdout",
     "output_type": "stream",
     "text": [
      "GEEK before clear: [6, 0, 4, 1]\n",
      "GEEK after clear: []\n"
     ]
    }
   ],
   "source": [
    "####7. write a program to clear a list in Python\n",
    "# Creating list\n",
    "SP = [6, 0, 4, 1]\n",
    "print('GEEK before clear:', SP)\n",
    "# Clearing list\n",
    "SP.clear()\n",
    "print('GEEK after clear:', SP)"
   ]
  },
  {
   "cell_type": "code",
   "execution_count": 10,
   "id": "af4d265b",
   "metadata": {},
   "outputs": [],
   "source": [
    "###8. write a program to Reversing a List\n",
    "def Reverse(lst):\n",
    "    return [ele for ele in reversed(lst)]\n",
    "    lst = [10, 11, 12, 13, 14, 15]\n",
    "    print(Reverse(lst))"
   ]
  },
  {
   "cell_type": "code",
   "execution_count": 11,
   "id": "8930bd16",
   "metadata": {},
   "outputs": [],
   "source": [
    "###9. write a program to find the sum of elements in list\n",
    "def multiplyList(myList) :\n",
    "# Multiply elements one by one\n",
    "    result = 1\n",
    "    for x in myList:\n",
    "        result = result + x\n",
    "        return result\n",
    "        list1 = [1, 2, 3]\n",
    "        list2 = [3, 2, 4]\n",
    "        print(multiplyList(list1))\n",
    "        print(multiplyList(list2))\n"
   ]
  },
  {
   "cell_type": "code",
   "execution_count": 13,
   "id": "57eb8eff",
   "metadata": {},
   "outputs": [
    {
     "name": "stdout",
     "output_type": "stream",
     "text": [
      "1\n",
      "3\n"
     ]
    }
   ],
   "source": [
    "####10.write a program to Multiply all numbers in the list\n",
    "def multiplyList(myList) :\n",
    "# Multiply elements one by one\n",
    "    result = 1\n",
    "    for x in myList:\n",
    "        result = result * x\n",
    "        return result\n",
    "# Driver code\n",
    "list1 = [1, 2, 3]\n",
    "list2 = [3, 2, 4]\n",
    "print(multiplyList(list1))\n",
    "print(multiplyList(list2))"
   ]
  },
  {
   "cell_type": "code",
   "execution_count": null,
   "id": "6259df5b",
   "metadata": {},
   "outputs": [],
   "source": []
  }
 ],
 "metadata": {
  "kernelspec": {
   "display_name": "Python 3 (ipykernel)",
   "language": "python",
   "name": "python3"
  },
  "language_info": {
   "codemirror_mode": {
    "name": "ipython",
    "version": 3
   },
   "file_extension": ".py",
   "mimetype": "text/x-python",
   "name": "python",
   "nbconvert_exporter": "python",
   "pygments_lexer": "ipython3",
   "version": "3.9.7"
  }
 },
 "nbformat": 4,
 "nbformat_minor": 5
}
