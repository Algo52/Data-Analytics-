{
 "cells": [
  {
   "cell_type": "code",
   "execution_count": 1,
   "id": "3c01412a",
   "metadata": {},
   "outputs": [],
   "source": [
    "####1. Python Program for n-th Fibonacci number\n",
    "def Fibonacci(n):\n",
    "    if n<= 0:\n",
    "        print(\"Incorrect input\")\n",
    "        # First Fibonacci number is 0\n",
    "    elif n == 1:\n",
    "        return 0\n",
    "        # Second Fibonacci number is 1\n",
    "    elif n == 2:\n",
    "        return 1\n",
    "    else:\n",
    "        return Fibonacci(n-1)+Fibonacci(n-2)\n",
    "        print(Fibonacci(10))"
   ]
  },
  {
   "cell_type": "code",
   "execution_count": 2,
   "id": "fbc051d4",
   "metadata": {},
   "outputs": [
    {
     "data": {
      "text/plain": [
       "5"
      ]
     },
     "execution_count": 2,
     "metadata": {},
     "output_type": "execute_result"
    }
   ],
   "source": [
    "Fibonacci(6)"
   ]
  },
  {
   "cell_type": "code",
   "execution_count": 6,
   "id": "3ac75504",
   "metadata": {},
   "outputs": [],
   "source": [
    "####2. Python Program for How to check if a given number is the Fibonacci number?\n",
    "import math\n",
    "def isPerfectSquare(x):\n",
    "    s = int(math.sqrt(x))\n",
    "    return s*s == x\n",
    "    def isFibonacci(n):\n",
    "    # n is Fibonacci if one of 5*n*n + 4 or 5*n*n - 4 or both\n",
    "    # is a perfect square\n",
    "        return isPerfectSquare(5*n*n + 4) or isPerfectSquare(5*n*n - 4)\n",
    "        # A utility function to test above functions\n",
    "        for i in range(1,11):\n",
    "            if (isFibonacci(i) == True):\n",
    "                print (i,\"is a Fibonacci Number\")\n",
    "            else:\n",
    "                print (i,\"is a not Fibonacci Number \")"
   ]
  },
  {
   "cell_type": "code",
   "execution_count": 7,
   "id": "3b842704",
   "metadata": {},
   "outputs": [],
   "source": [
    "####3. Python Program for n\\’th multiple of a number in Fibonacci Series\n",
    "def findPosition(k, n):\n",
    "    f1 = 0\n",
    "    f2 = 1\n",
    "    i =2;\n",
    "    while i!=0:\n",
    "        f3 = f1 + f2;\n",
    "        f1 = f2;\n",
    "        f2 = f3;\n",
    "        if f2%k == 0:\n",
    "            return n*i\n",
    "            i+=1\n",
    "            return\n",
    "            # Multiple no.\n",
    "            n = 5;\n",
    "            # Number of whose multiple we are finding\n",
    "            k = 4;\n",
    "            print(\"Position of n\\'th multiple of k in\"\n",
    "            \"Fibonacci Series is\", findPosition(k,n))"
   ]
  },
  {
   "cell_type": "code",
   "execution_count": 8,
   "id": "ee3a9d81",
   "metadata": {},
   "outputs": [
    {
     "data": {
      "text/plain": [
       "8"
      ]
     },
     "execution_count": 8,
     "metadata": {},
     "output_type": "execute_result"
    }
   ],
   "source": [
    "findPosition(2,4)"
   ]
  },
  {
   "cell_type": "code",
   "execution_count": 9,
   "id": "6218a2cf",
   "metadata": {},
   "outputs": [
    {
     "name": "stdout",
     "output_type": "stream",
     "text": [
      "The ASCII value of 'g' is 103\n"
     ]
    }
   ],
   "source": [
    "###4. Program to print ASCII Value of a character\n",
    "c = 'g'\n",
    "# print the ASCII value of the assigned character in c\n",
    "print(\"The ASCII value of '\" + c + \"' is\", ord(c))"
   ]
  },
  {
   "cell_type": "code",
   "execution_count": 11,
   "id": "e5be30d4",
   "metadata": {},
   "outputs": [
    {
     "name": "stdout",
     "output_type": "stream",
     "text": [
      "Enter value of N: 5\n",
      "Sum of squares =  1\n",
      "Sum of squares =  5\n",
      "Sum of squares =  14\n",
      "Sum of squares =  30\n",
      "Sum of squares =  55\n"
     ]
    }
   ],
   "source": [
    "####5. Python Program for Sum of squares of first n natural numbers\n",
    "N = int(input(\"Enter value of N: \"))\n",
    "# calculating sum of square\n",
    "sumVal = 0\n",
    "for i in range(1, N+1):\n",
    "    sumVal += (i*i)\n",
    "    print(\"Sum of squares = \", sumVal)"
   ]
  },
  {
   "cell_type": "code",
   "execution_count": 12,
   "id": "668abe9b",
   "metadata": {},
   "outputs": [],
   "source": [
    "####6. Python Program for cube sum of first n natural numbers\n",
    "def sumOfSeries(n):\n",
    "    sum = 0\n",
    "    for i in range(1, n+1):\n",
    "        sum +=i*i*i\n",
    "        return sum\n",
    "        "
   ]
  },
  {
   "cell_type": "code",
   "execution_count": 13,
   "id": "af02fe2c",
   "metadata": {},
   "outputs": [
    {
     "data": {
      "text/plain": [
       "1"
      ]
     },
     "execution_count": 13,
     "metadata": {},
     "output_type": "execute_result"
    }
   ],
   "source": [
    "sumOfSeries(4)"
   ]
  },
  {
   "cell_type": "code",
   "execution_count": 14,
   "id": "5906b7fe",
   "metadata": {},
   "outputs": [],
   "source": [
    "####7. Python Program to find the sum of array\n",
    "def _sum(arr):\n",
    "    sum=0\n",
    "    for i in arr:\n",
    "        sum = sum + i\n",
    "        return(sum)\n",
    "        # driver function\n",
    "        arr=[]\n",
    "        # input values to list\n",
    "        arr = [12, 3, 4, 15]\n",
    "        # calculating length of array\n",
    "        n = len(arr)\n",
    "        ans = _sum(arr)\n",
    "        # display sum\n",
    "        print ('Sum of the array is ', ans)\n"
   ]
  },
  {
   "cell_type": "code",
   "execution_count": 20,
   "id": "9fe8a841",
   "metadata": {},
   "outputs": [
    {
     "data": {
      "text/plain": [
       "1"
      ]
     },
     "execution_count": 20,
     "metadata": {},
     "output_type": "execute_result"
    }
   ],
   "source": [
    "_sum([1,2,3])"
   ]
  },
  {
   "cell_type": "code",
   "execution_count": 21,
   "id": "adb1ec1a",
   "metadata": {},
   "outputs": [
    {
     "name": "stdout",
     "output_type": "stream",
     "text": [
      "Sum of the array is  34\n"
     ]
    }
   ],
   "source": [
    "def _sum(arr):\n",
    "    sum=0\n",
    "    for i in arr:\n",
    "        sum = sum + i\n",
    "         \n",
    "    return(sum)\n",
    " \n",
    "# driver function\n",
    "arr=[]\n",
    "# input values to list\n",
    "arr = [12, 3, 4, 15]\n",
    " \n",
    "# calculating length of array\n",
    "n = len(arr)\n",
    " \n",
    "ans = _sum(arr)\n",
    " \n",
    "# display sum\n",
    "print ('Sum of the array is ', ans)\n",
    " "
   ]
  },
  {
   "cell_type": "code",
   "execution_count": 23,
   "id": "f3ac39da",
   "metadata": {},
   "outputs": [],
   "source": [
    "###8. Python Program to find the largest element in an array\n",
    "def largest(arr,n):\n",
    "# Initialize maximum element\n",
    "    max = arr[0]\n",
    "\n",
    "    for i in range(1, n):\n",
    "        if arr[i] > max:\n",
    "            max = arr[i]\n",
    "            return max\n",
    "            # Driver Code\n",
    "            arr = [10, 324, 45, 90, 9808]\n",
    "            n = len(arr)\n",
    "            Ans = largest(arr,n)\n",
    "            print (\"Largest in given array is\",Ans)"
   ]
  },
  {
   "cell_type": "code",
   "execution_count": 24,
   "id": "45e79cc2",
   "metadata": {},
   "outputs": [
    {
     "data": {
      "text/plain": [
       "324"
      ]
     },
     "execution_count": 24,
     "metadata": {},
     "output_type": "execute_result"
    }
   ],
   "source": [
    "largest([10, 324, 45, 90, 9808],len(arr))"
   ]
  },
  {
   "cell_type": "code",
   "execution_count": 28,
   "id": "20873194",
   "metadata": {},
   "outputs": [],
   "source": [
    "####9. Python Program for array rotation\n",
    "def rotateArray(arr, n, d):\n",
    "        temp = []\n",
    "        i = 0\n",
    "        while (i < d):\n",
    "            temp.append(arr[i])\n",
    "            i = i + 1\n",
    "            i = 0\n",
    "            while (d < n):\n",
    "                    arr[i] = arr[d]\n",
    "                    i = i + 1\n",
    "                    d = d + 1\n",
    "                    arr[:] = arr[: i] + temp\n",
    "                    return arr\n",
    "                    # Driver function to test above function\n",
    "                    arr = [1, 2, 3, 4, 5, 6, 7]\n",
    "                    print(\"Array after left rotation is: \", end=' ')\n",
    "                    print(rotateArray(arr, len(arr), 2))"
   ]
  },
  {
   "cell_type": "code",
   "execution_count": 29,
   "id": "2856bb72",
   "metadata": {},
   "outputs": [
    {
     "ename": "IndentationError",
     "evalue": "expected an indented block (Temp/ipykernel_10168/4124607661.py, line 11)",
     "output_type": "error",
     "traceback": [
      "\u001b[1;36m  File \u001b[1;32m\"C:\\Users\\Hemanth\\AppData\\Local\\Temp/ipykernel_10168/4124607661.py\"\u001b[1;36m, line \u001b[1;32m11\u001b[0m\n\u001b[1;33m    return\u001b[0m\n\u001b[1;37m    ^\u001b[0m\n\u001b[1;31mIndentationError\u001b[0m\u001b[1;31m:\u001b[0m expected an indented block\n"
     ]
    }
   ],
   "source": [
    "####10.Python Program for Reversal algorithm for array rotation\n",
    "def reverseArray(arr, start, end):\n",
    "    while (start < end):\n",
    "        temp=arr[start]\n",
    "        arr[start]=arr[end]\n",
    "        arr[end]=temp\n",
    "        start=start+1\n",
    "        end=end-1\n",
    "        def Rotate(a, d):\n",
    "            if d == 0:\n",
    "            return\n",
    "            n = len(a)\n",
    "            d = d % n\n",
    "            reverseArray(a, 0, d-1)\n",
    "            reverseArray(a, d, n-1)\n",
    "            reverseArray(a, 0, n-1)\n",
    "            def printArray(arr):\n",
    "                for i in range(0, len(arr)):\n",
    "                    print(arr[i],end=\" \")\n",
    "                    a= [10, 20, 13, 24, 53, 6, 17]\n",
    "                    n = len(a)\n",
    "                    d = 2\n",
    "                    printArray(a)\n",
    "                    Rotate(a, d)\n",
    "                    print(\"\\nShifted array: \")\n",
    "                    printArray(a)\n"
   ]
  },
  {
   "cell_type": "code",
   "execution_count": null,
   "id": "79f10eba",
   "metadata": {},
   "outputs": [],
   "source": []
  }
 ],
 "metadata": {
  "kernelspec": {
   "display_name": "Python 3 (ipykernel)",
   "language": "python",
   "name": "python3"
  },
  "language_info": {
   "codemirror_mode": {
    "name": "ipython",
    "version": 3
   },
   "file_extension": ".py",
   "mimetype": "text/x-python",
   "name": "python",
   "nbconvert_exporter": "python",
   "pygments_lexer": "ipython3",
   "version": "3.9.7"
  }
 },
 "nbformat": 4,
 "nbformat_minor": 5
}
