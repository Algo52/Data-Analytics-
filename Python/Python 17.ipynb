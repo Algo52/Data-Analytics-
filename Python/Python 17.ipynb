{
 "cells": [
  {
   "cell_type": "code",
   "execution_count": 1,
   "id": "a3f13feb",
   "metadata": {},
   "outputs": [
    {
     "name": "stdout",
     "output_type": "stream",
     "text": [
      "2 : 25\n",
      "3 : 31\n",
      "Both are same times\n"
     ]
    }
   ],
   "source": [
    "#### 1\n",
    "\n",
    "def difference(h1, m1, h2, m2):\n",
    "      \n",
    "    # convert h1 : m1 into\n",
    "    # minutes\n",
    "    t1 = h1 * 60 + m1\n",
    "      \n",
    "    # convert h2 : m2 into\n",
    "    # minutes \n",
    "    t2 = h2 * 60 + m2\n",
    "      \n",
    "    if (t1 == t2): \n",
    "        print(\"Both are same times\")\n",
    "        return \n",
    "    else:\n",
    "          \n",
    "        # calculating the difference\n",
    "        diff = t2-t1\n",
    "          \n",
    "    # calculating hours from\n",
    "    # difference\n",
    "    h = (int(diff / 60)) % 24\n",
    "      \n",
    "    # calculating minutes from \n",
    "    # difference\n",
    "    m = diff % 60\n",
    "  \n",
    "    print(h, \":\", m)\n",
    "  \n",
    "# Driver's code\n",
    "if __name__ == \"__main__\":\n",
    "      \n",
    "    difference(7, 20, 9, 45)\n",
    "    difference(15, 23, 18, 54)\n",
    "    difference(16, 20, 16, 20)"
   ]
  },
  {
   "cell_type": "code",
   "execution_count": 4,
   "id": "269bb0df",
   "metadata": {},
   "outputs": [
    {
     "name": "stdout",
     "output_type": "stream",
     "text": [
      "Press ENTER to count laps.\n",
      "Press CTRL+C to stop\n",
      "Done\n"
     ]
    }
   ],
   "source": [
    "###2. Python Program to Create a Lap Timer\n",
    "import time\n",
    "  \n",
    "  \n",
    "# Timer starts\n",
    "starttime=time.time()\n",
    "lasttime=starttime\n",
    "lapnum=1\n",
    "  \n",
    "print(\"Press ENTER to count laps.\\nPress CTRL+C to stop\")\n",
    "  \n",
    "try:\n",
    "     while True:\n",
    "              \n",
    "          # Input for the ENTER key press\n",
    "          input()\n",
    "  \n",
    "          # The current lap-time\n",
    "          laptime=round((time.time() - lasttime), 2)\n",
    "  \n",
    "          totaltime=round((time.time() - starttime), 2)\n",
    "  \n",
    "          print(\"Lap No. \"+str(lapnum)) \n",
    "          print(\"Total Time: \"+str(totaltime))\n",
    "          print(\"Lap Time: \"+str(laptime))\n",
    "            \n",
    "          print(\"*\"*20)\n",
    "          lasttime=time.time()\n",
    "          lapnum+=1\n",
    "  \n",
    "# Stopping when CTRL+C is pressed\n",
    "except KeyboardInterrupt:\n",
    "     print(\"Done\")"
   ]
  },
  {
   "cell_type": "code",
   "execution_count": 5,
   "id": "0f872e41",
   "metadata": {},
   "outputs": [
    {
     "name": "stdout",
     "output_type": "stream",
     "text": [
      "1579458600.0\n"
     ]
    }
   ],
   "source": [
    "###3. Convert date string to timestamp in Python\n",
    "  \n",
    "import time\n",
    "import datetime\n",
    "  \n",
    "  \n",
    "string = \"20/01/2020\"\n",
    "  \n",
    "element = datetime.datetime.strptime(string,\"%d/%m/%Y\")\n",
    "  \n",
    "tuple = element.timetuple()\n",
    "timestamp = time.mktime(tuple)\n",
    "  \n",
    "print(timestamp)"
   ]
  },
  {
   "cell_type": "code",
   "execution_count": 6,
   "id": "23b5468e",
   "metadata": {},
   "outputs": [
    {
     "name": "stdout",
     "output_type": "stream",
     "text": [
      "date_time: 2006-02-25 05:30:00\n",
      "type of dt: <class 'datetime.datetime'>\n"
     ]
    }
   ],
   "source": [
    "###4. How to convert timestamp string to datetime object in Python?\n",
    "\n",
    "from datetime import datetime\n",
    "  \n",
    "  \n",
    "timestamp = 1545730073\n",
    "dt_obj = datetime.fromtimestamp(1140825600)\n",
    "  \n",
    "print(\"date_time:\",dt_obj)\n",
    "print(\"type of dt:\",type(dt_obj))"
   ]
  },
  {
   "cell_type": "code",
   "execution_count": 7,
   "id": "5f2db9bc",
   "metadata": {},
   "outputs": [
    {
     "name": "stdout",
     "output_type": "stream",
     "text": [
      "date: 24-03-19\n"
     ]
    }
   ],
   "source": [
    "from datetime import datetime\n",
    "  \n",
    "  \n",
    "timestamp = 1553367060\n",
    "dt_obj = datetime.fromtimestamp(timestamp).strftime('%d-%m-%y')\n",
    "  \n",
    "print(\"date:\",dt_obj)"
   ]
  },
  {
   "cell_type": "code",
   "execution_count": 8,
   "id": "7ff8c43c",
   "metadata": {},
   "outputs": [
    {
     "name": "stdout",
     "output_type": "stream",
     "text": [
      "Monday   4\n",
      "Tuesday   5\n",
      "Wednesday   5\n",
      "Thursday   5\n",
      "Friday   4\n",
      "Saturday   4\n",
      "Sunday   4\n"
     ]
    }
   ],
   "source": [
    "###5. Find number of times every day occurs in a Year\n",
    "import math\n",
    " \n",
    "# function to find occurrences\n",
    "def occurrenceDays( n, firstday):\n",
    " \n",
    "    # stores days in a week\n",
    "    days = [ \"Monday\", \"Tuesday\", \"Wednesday\",\n",
    "           \"Thursday\",  \"Friday\", \"Saturday\",\n",
    "           \"Sunday\" ]\n",
    "  \n",
    "    # Initialize all counts as 4.\n",
    "    count= [4 for i in range(0,7)]\n",
    "     \n",
    "    # find index of the first day\n",
    "    pos=-1\n",
    "    for i in range(0,7):\n",
    "        if (firstday == days[i]):\n",
    "            pos = i\n",
    "            break\n",
    "         \n",
    "     \n",
    "  \n",
    "    # number of days whose occurrence will be 5\n",
    "    inc = n - 28\n",
    "  \n",
    "    # mark the occurrence to be 5 of n-28 days\n",
    "    for  i in range( pos, pos + inc):\n",
    "        if (i > 6):\n",
    "            count[i % 7] = 5\n",
    "        else:\n",
    "            count[i] = 5\n",
    "     \n",
    "  \n",
    "    # print the days\n",
    "    for i in range(0,7):\n",
    "        print (days[i] , \" \" , count[i])\n",
    "     \n",
    " \n",
    "  \n",
    "# driver program to test\n",
    "# the above function\n",
    "n = 31\n",
    "firstday = \"Tuesday\"\n",
    "occurrenceDays(n, firstday)"
   ]
  },
  {
   "cell_type": "code",
   "execution_count": 9,
   "id": "f7bd4d35",
   "metadata": {},
   "outputs": [
    {
     "name": "stdout",
     "output_type": "stream",
     "text": [
      "Valid String\n",
      "Invalid String\n"
     ]
    }
   ],
   "source": [
    "##6. Python Program to Check if String Contain Only Defined Characters using Regex\n",
    "import re\n",
    "  \n",
    "  \n",
    "def check(str, pattern):\n",
    "    \n",
    "    # _matching the strings\n",
    "    if re.search(pattern, str):\n",
    "        print(\"Valid String\")\n",
    "    else:\n",
    "        print(\"Invalid String\")\n",
    "  \n",
    "# _driver code\n",
    "pattern = re.compile('^[1234]+$')\n",
    "check('2134', pattern)\n",
    "check('349', pattern)"
   ]
  },
  {
   "cell_type": "code",
   "execution_count": 10,
   "id": "1d2710ac",
   "metadata": {},
   "outputs": [
    {
     "name": "stdout",
     "output_type": "stream",
     "text": [
      "The no. of uppercase characters is 4\n",
      "The no. of lowercase characters is 15\n",
      "The no. of numerical characters is 3\n",
      "The no. of special characters is 4\n"
     ]
    }
   ],
   "source": [
    "###7. Python program to Count Uppercase, Lowercase, special character and numeric values using Regex\n",
    "import re\n",
    " \n",
    " \n",
    "string = \"ThisIsGeeksforGeeks !, 123\"\n",
    " \n",
    "# Creating separate lists using\n",
    "# the re.findall() method.\n",
    "uppercase_characters = re.findall(r\"[A-Z]\", string)\n",
    "lowercase_characters = re.findall(r\"[a-z]\", string)\n",
    "numerical_characters = re.findall(r\"[0-9]\", string)\n",
    "special_characters = re.findall(r\"[, .!?]\", string)\n",
    " \n",
    "print(\"The no. of uppercase characters is\", len(uppercase_characters))\n",
    "print(\"The no. of lowercase characters is\", len(lowercase_characters))\n",
    "print(\"The no. of numerical characters is\", len(numerical_characters))\n",
    "print(\"The no. of special characters is\", len(special_characters))"
   ]
  },
  {
   "cell_type": "code",
   "execution_count": 11,
   "id": "f276cb92",
   "metadata": {},
   "outputs": [
    {
     "name": "stdout",
     "output_type": "stream",
     "text": [
      "55\n"
     ]
    }
   ],
   "source": [
    "###8. Python Program to find the most occurring number in a string using Regex\n",
    "import re \n",
    "from collections import Counter \n",
    "  \n",
    "def most_occr_element(word):\n",
    "      \n",
    "    # re.findall will extract all the elements \n",
    "    # from the string and make a list\n",
    "    arr = re.findall(r'[0-9]+', word)    \n",
    "      \n",
    "    # to store maxm frequency\n",
    "    maxm = 0  \n",
    "  \n",
    "    # to store maxm element of most frequency\n",
    "    max_elem = 0\n",
    "      \n",
    "    # counter will store all the number with \n",
    "    # their frequencies\n",
    "    # c = counter((55, 2), (2, 1), (3, 1), (4, 1))    \n",
    "    c = Counter(arr)\n",
    "    \n",
    "    # Store all the keys of counter in a list in\n",
    "    # which first would we our required element    \n",
    "    for x in list(c.keys()):\n",
    "  \n",
    "        if c[x]>= maxm:\n",
    "            maxm = c[x]\n",
    "            max_elem = int(x)\n",
    "                  \n",
    "    return max_elem\n",
    "  \n",
    "# Driver program \n",
    "if __name__ == \"__main__\": \n",
    "    word = 'geek55of55gee4ksabc3dr2x'\n",
    "    print(most_occr_element(word))"
   ]
  },
  {
   "cell_type": "code",
   "execution_count": 17,
   "id": "6a02acea",
   "metadata": {},
   "outputs": [
    {
     "name": "stdout",
     "output_type": "stream",
     "text": [
      "564\n"
     ]
    }
   ],
   "source": [
    "###9. Python Regex to extract maximum numeric value from a string\n",
    "import re\n",
    "  \n",
    "def extractMax(input):\n",
    "    numbers = re.findall('\\d+',input)\n",
    "    numbers = map(int,numbers)\n",
    "    print (max(numbers))\n",
    "  \n",
    "# Driver program\n",
    "if __name__ == \"__main__\":\n",
    "    input = '100klh564abc365bg'\n",
    "    extractMax(input)"
   ]
  },
  {
   "cell_type": "code",
   "execution_count": 20,
   "id": "ca510d48",
   "metadata": {},
   "outputs": [
    {
     "ename": "IndentationError",
     "evalue": "expected an indented block (Temp/ipykernel_6824/588843713.py, line 7)",
     "output_type": "error",
     "traceback": [
      "\u001b[1;36m  File \u001b[1;32m\"C:\\Users\\Hemanth\\AppData\\Local\\Temp/ipykernel_6824/588843713.py\"\u001b[1;36m, line \u001b[1;32m7\u001b[0m\n\u001b[1;33m    words[i]=words[i][0].lower()+words[i][1:]\u001b[0m\n\u001b[1;37m    ^\u001b[0m\n\u001b[1;31mIndentationError\u001b[0m\u001b[1;31m:\u001b[0m expected an indented block\n"
     ]
    }
   ],
   "source": [
    "##10. Python Program to put spaces between words starting with capital letters using Regex\n",
    "import re   \n",
    "def putSpace(input):\n",
    "        words = re.findall('[A-Z][a-z]*', input)\n",
    "        for i in range(0,len(words)):\n",
    "        words[i]=words[i][0].lower()+words[i][1:]\n",
    "        print(' '.join(words))   \n",
    "# Driver program\n",
    "if __name__ == \"__main__\":\n",
    "    input = 'BruceWayneIsBatman'\n",
    "    putSpace(input)"
   ]
  },
  {
   "cell_type": "code",
   "execution_count": null,
   "id": "c3b70068",
   "metadata": {},
   "outputs": [],
   "source": []
  }
 ],
 "metadata": {
  "kernelspec": {
   "display_name": "Python 3 (ipykernel)",
   "language": "python",
   "name": "python3"
  },
  "language_info": {
   "codemirror_mode": {
    "name": "ipython",
    "version": 3
   },
   "file_extension": ".py",
   "mimetype": "text/x-python",
   "name": "python",
   "nbconvert_exporter": "python",
   "pygments_lexer": "ipython3",
   "version": "3.9.7"
  }
 },
 "nbformat": 4,
 "nbformat_minor": 5
}
