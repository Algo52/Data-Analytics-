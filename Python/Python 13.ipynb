{
 "cells": [
  {
   "cell_type": "code",
   "execution_count": null,
   "id": "ff9a268b",
   "metadata": {},
   "outputs": [],
   "source": [
    "###1. Python – Join Tuples if similar initial element\n",
    "test_list = [(5, 6), (5, 7), (6, 8), (6, 10), (7, 13)]\n",
    "# printing original list\n",
    "print(\"The original list is : \" + str(test_list))\n",
    "# Join Tuples if similar initial element\n",
    "# Using loop\n",
    "res = []\n",
    "for sub in test_list:\n",
    "    if res and res[-1][0] == sub[0]:\n",
    "        res[-1].extend(sub[1:])\n",
    "    else:\n",
    "        res.append([ele for ele in sub])\n",
    "        res = list(map(tuple, res))\n",
    "# printing result\n",
    "print(\"The extracted elements : \" + str(res))\n"
   ]
  },
  {
   "cell_type": "code",
   "execution_count": 2,
   "id": "1888f12b",
   "metadata": {},
   "outputs": [
    {
     "name": "stdout",
     "output_type": "stream",
     "text": [
      "The original list is : [(15, 3), (3, 9), (1, 10), (99, 2)]\n",
      "The extracted digits : {'0', '9', '2', '5', '1', '3'}\n"
     ]
    }
   ],
   "source": [
    "###2. Python – Extract digits from Tuple list\n",
    "from itertools import chain\n",
    "# initializing list\n",
    "test_list = [(15, 3), (3, 9), (1, 10), (99, 2)]\n",
    "# printing original list\n",
    "print(\"The original list is : \" + str(test_list))\n",
    "# Extract digits from Tuple list\n",
    "# Using map() + chain.from_iterable() + set() + loop\n",
    "temp = map(lambda ele: str(ele), chain.from_iterable(test_list))\n",
    "res = set()\n",
    "for sub in temp:\n",
    "    for ele in sub:\n",
    "        res.add(ele)\n",
    "# printing result\n",
    "print(\"The extracted digits : \" + str(res))"
   ]
  },
  {
   "cell_type": "code",
   "execution_count": 3,
   "id": "f54fc01b",
   "metadata": {},
   "outputs": [
    {
     "name": "stdout",
     "output_type": "stream",
     "text": [
      "The original tuple 1 : (4, 5)\n",
      "The original tuple 2 : (7, 8)\n",
      "The filtered tuple : [(4, 7), (4, 8), (5, 7), (5, 8), (7, 4), (7, 5), (8, 4), (8, 5)]\n"
     ]
    }
   ],
   "source": [
    "###3. Python – All pair combinations of 2 tuples\n",
    "test_tuple1 = (4, 5)\n",
    "test_tuple2 = (7, 8)\n",
    "# printing original tuples\n",
    "print(\"The original tuple 1 : \" + str(test_tuple1))\n",
    "print(\"The original tuple 2 : \" + str(test_tuple2))\n",
    "# All pair combinations of 2 tuples\n",
    "# Using list comprehension\n",
    "res = [(a, b) for a in test_tuple1 for b in test_tuple2]\n",
    "res = res + [(a, b) for a in test_tuple2 for b in test_tuple1]\n",
    "# printing result\n",
    "print(\"The filtered tuple : \" + str(res))\n"
   ]
  },
  {
   "cell_type": "code",
   "execution_count": 4,
   "id": "3dadb0b9",
   "metadata": {},
   "outputs": [
    {
     "name": "stdout",
     "output_type": "stream",
     "text": [
      "The original list : [(4, 5), (4,), (8, 6, 7), (1,), (3, 4, 6, 7)]\n",
      "Filtered list : [(4, 5), (8, 6, 7), (3, 4, 6, 7)]\n"
     ]
    }
   ],
   "source": [
    "###4. Python – Remove Tuples of Length K\n",
    "test_list = [(4, 5), (4, ), (8, 6, 7), (1, ), (3, 4, 6, 7)]\n",
    "# printing original list\n",
    "print(\"The original list : \" + str(test_list))\n",
    "# initializing K\n",
    "K = 1\n",
    "# 1 liner to perform task\n",
    "# filter just lengths other than K\n",
    "# len() used to compute length\n",
    "res = [ele for ele in test_list if len(ele) != K]\n",
    "# printing result\n",
    "print(\"Filtered list : \" + str(res))\n"
   ]
  },
  {
   "cell_type": "code",
   "execution_count": 5,
   "id": "eb306119",
   "metadata": {},
   "outputs": [
    {
     "name": "stdout",
     "output_type": "stream",
     "text": [
      "[('is', 10), ('for', 24), ('Geeks', 28), ('Geeksforgeeks', 5), ('portal', 20), ('a', 15)]\n"
     ]
    }
   ],
   "source": [
    "###5. Sort a list of tuples by second Item\n",
    "def Sort_Tuple(tup):\n",
    "# getting length of list of tuples\n",
    "    lst = len(tup)\n",
    "    for i in range(0, lst):\n",
    "        for j in range(0, lst-i-1):\n",
    "            if (tup[j][1] > tup[j + 1][1]):\n",
    "                temp = tup[j]\n",
    "                tup[j]= tup[j + 1]\n",
    "                tup[j + 1]= temp\n",
    "                return tup\n",
    "# Driver Code\n",
    "tup =[('for', 24), ('is', 10), ('Geeks', 28),\n",
    "('Geeksforgeeks', 5), ('portal', 20), ('a', 15)]\n",
    "print(Sort_Tuple(tup))"
   ]
  },
  {
   "cell_type": "code",
   "execution_count": 6,
   "id": "1ef80ddf",
   "metadata": {},
   "outputs": [
    {
     "name": "stdout",
     "output_type": "stream",
     "text": [
      "The list of tuple is : \n",
      "[('Mark', 34), ('Will', 91), ('Rob', 23)]\n",
      "The ordered list is :\n",
      "['Will', 'Mark', 'Rob']\n",
      "The ordered tuple list is : \n",
      "[('Will', 91), ('Mark', 34), ('Rob', 23)]\n"
     ]
    }
   ],
   "source": [
    "###6. Python program to Order Tuples using external List\n",
    "my_list = [('Mark', 34), ('Will', 91), ('Rob', 23)]\n",
    "print(\"The list of tuple is : \")\n",
    "print(my_list)\n",
    "ordered_list = ['Will', 'Mark', 'Rob']\n",
    "print(\"The ordered list is :\")\n",
    "print(ordered_list)\n",
    "temp = dict(my_list)\n",
    "my_result = [(key, temp[key]) for key in ordered_list]\n",
    "print(\"The ordered tuple list is : \")\n",
    "print(my_result)\n"
   ]
  },
  {
   "cell_type": "code",
   "execution_count": 7,
   "id": "e5747126",
   "metadata": {},
   "outputs": [
    {
     "name": "stdout",
     "output_type": "stream",
     "text": [
      "The original tuple : ([5, 6], [6, 7, 8, 9], [3])\n",
      "The flattened tuple : (5, 6, 6, 7, 8, 9, 3)\n"
     ]
    }
   ],
   "source": [
    "###7. Python – Flatten tuple of List to tuple\n",
    "test_tuple = ([5, 6], [6, 7, 8, 9], [3])\n",
    "# printing original tuple\n",
    "print(\"The original tuple : \" + str(test_tuple))\n",
    "# Flatten tuple of List to tuple\n",
    "# Using sum() + tuple()\n",
    "res = tuple(sum(test_tuple, []))\n",
    "# printing result\n",
    "print(\"The flattened tuple : \" + str(res))"
   ]
  },
  {
   "cell_type": "code",
   "execution_count": 8,
   "id": "6b0af78a",
   "metadata": {},
   "outputs": [
    {
     "name": "stdout",
     "output_type": "stream",
     "text": [
      "The original tuple : ((4, 'Gfg', 10), (3, 'is', 8), (6, 'Best', 10))\n",
      "The converted dictionary : [{'key': 4, 'value': 'Gfg', 'id': 10}, {'key': 3, 'value': 'is', 'id': 8}, {'key': 6, 'value': 'Best', 'id': 10}]\n"
     ]
    }
   ],
   "source": [
    "###8. Python – Convert Nested Tuple to Custom Key Dictionary\n",
    "test_tuple = ((4, 'Gfg', 10), (3, 'is', 8), (6, 'Best', 10))\n",
    "# printing original tuple\n",
    "print(\"The original tuple : \" + str(test_tuple))\n",
    "# Convert Nested Tuple to Custom Key Dictionary\n",
    "# Using list comprehension + dictionary comprehension\n",
    "res = [{'key': sub[0], 'value': sub[1], 'id': sub[2]}\n",
    "for sub in test_tuple]\n",
    "# printing result\n",
    "print(\"The converted dictionary : \" + str(res))"
   ]
  },
  {
   "cell_type": "code",
   "execution_count": null,
   "id": "b66134de",
   "metadata": {},
   "outputs": [],
   "source": [
    "###9. Python Program for Binary Search (Recursive and Iterative)\n",
    "def binary_search(arr, low, high, x):\n",
    "    # Check base case\n",
    "    if high >= low:\n",
    "        mid = (high + low) // 2\n",
    "    # If element is present at the middle itself\n",
    "        if arr[mid] == x:\n",
    "            return mid\n",
    "        elif arr[mid] > x:\n",
    "            return binary_search(arr, low, mid - 1, x)\n",
    "    # Else the element can only be present in right subarray\n",
    "        else:\n",
    "            return binary_search(arr, mid + 1, high, x)\n",
    "        else:\n",
    "    # Element is not present in the array\n",
    "            return -1\n",
    "            # Test array\n",
    "            arr = [ 2, 3, 4, 10, 40 ]\n",
    "            x = 10\n",
    "    # Function call\n",
    "    result = binary_search(arr, 0, len(arr)-1, x)\n",
    "    if result != -1:\n",
    "    print(\"Element is present at index\", str(result))\n",
    "    else:\n",
    "    print(\"Element is not present in array\")\n"
   ]
  },
  {
   "cell_type": "code",
   "execution_count": null,
   "id": "39253149",
   "metadata": {},
   "outputs": [],
   "source": []
  },
  {
   "cell_type": "code",
   "execution_count": null,
   "id": "3b84e042",
   "metadata": {},
   "outputs": [],
   "source": []
  }
 ],
 "metadata": {
  "kernelspec": {
   "display_name": "Python 3 (ipykernel)",
   "language": "python",
   "name": "python3"
  },
  "language_info": {
   "codemirror_mode": {
    "name": "ipython",
    "version": 3
   },
   "file_extension": ".py",
   "mimetype": "text/x-python",
   "name": "python",
   "nbconvert_exporter": "python",
   "pygments_lexer": "ipython3",
   "version": "3.9.7"
  }
 },
 "nbformat": 4,
 "nbformat_minor": 5
}
