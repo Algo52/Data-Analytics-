{
 "cells": [
  {
   "cell_type": "code",
   "execution_count": 1,
   "id": "9657b677",
   "metadata": {},
   "outputs": [
    {
     "name": "stdout",
     "output_type": "stream",
     "text": [
      "-4 -3 -2 -1 "
     ]
    }
   ],
   "source": [
    "####1. Python program to print all negative numbers in a range\n",
    "start, end = -4, 19\n",
    "# iterating each number in list\n",
    "for num in range(start, end + 1):\n",
    "# checking condition\n",
    "    if num < 0:\n",
    "        print(num, end = \" \")"
   ]
  },
  {
   "cell_type": "code",
   "execution_count": 2,
   "id": "218572ad",
   "metadata": {},
   "outputs": [
    {
     "name": "stdout",
     "output_type": "stream",
     "text": [
      "New list after removing all even numbers:  [11, 5, 17, 23, 50]\n",
      "New list after removing all even numbers:  [11, 5, 17, 23]\n"
     ]
    }
   ],
   "source": [
    "###2. Remove multiple elements from a list in Python\n",
    "# creating a list\n",
    "list1 = [11, 5, 17, 18, 23, 50]\n",
    "# Iterate each element in list\n",
    "# and add them in variable total\n",
    "for ele in list1:\n",
    "    if ele % 2 == 0:\n",
    "        list1.remove(ele)\n",
    "        # printing modified list\n",
    "        print(\"New list after removing all even numbers: \", list1)"
   ]
  },
  {
   "cell_type": "code",
   "execution_count": 3,
   "id": "0d4ef341",
   "metadata": {},
   "outputs": [
    {
     "name": "stdout",
     "output_type": "stream",
     "text": [
      "The original list is : [1, [], 2, 3, [], 4, 5, [], [], 9]\n",
      "List after empty list removal : [1, 2, 3, 4, 5, 9]\n"
     ]
    }
   ],
   "source": [
    "####3. write a Python program to Remove an empty List from the List\n",
    "# Initializing list\n",
    "myList = [1, [], 2, 3, [], 4, 5, [], [], 9]\n",
    "# printing original list\n",
    "print(\"The original list is : \" + str(myList))\n",
    "# Remove empty List from List\n",
    "result = list(filter(None, myList))\n",
    "# printing result\n",
    "print (\"List after empty list removal : \" + str(result))"
   ]
  },
  {
   "cell_type": "code",
   "execution_count": 4,
   "id": "2bff7f2d",
   "metadata": {},
   "outputs": [],
   "source": [
    "##4. write a Python program to Clone or Copying a list\n",
    "myList = [1,2, 3,4, 5, 9]\n",
    "newlist=myList"
   ]
  },
  {
   "cell_type": "code",
   "execution_count": 7,
   "id": "a2536635",
   "metadata": {},
   "outputs": [
    {
     "name": "stdout",
     "output_type": "stream",
     "text": [
      "8 has occurred 1 times\n"
     ]
    }
   ],
   "source": [
    "#####5. write a Python program to count occurrences of an element in a list\n",
    "def countX(lst, x):\n",
    "    count = 0\n",
    "    for ele in lst:\n",
    "        if (ele == x):\n",
    "            count = count + 1\n",
    "            return count\n",
    "# Driver Code\n",
    "lst = [8, 6, 8, 10, 8, 20, 10, 8, 8]\n",
    "x = 8  \n",
    "print('{} has occurred {} times'.format(x, countX(lst, x)))"
   ]
  },
  {
   "cell_type": "code",
   "execution_count": 10,
   "id": "de57ec11",
   "metadata": {},
   "outputs": [
    {
     "name": "stdout",
     "output_type": "stream",
     "text": [
      "[('ram', '15', '8'), ('laxman', 'sita'), ('krishna', 'akbar', '45'), ('', '')]\n"
     ]
    }
   ],
   "source": [
    "####6. write a Python program to Remove empty tuples from a list\n",
    "def Remove(tuples):\n",
    "    tuples = [t for t in tuples if t]\n",
    "    return tuples\n",
    "# Driver Code\n",
    "tuples = [(), ('ram','15','8'), (), ('laxman', 'sita'),('krishna', 'akbar', '45'), ('',''),()]\n",
    "print(Remove(tuples))"
   ]
  },
  {
   "cell_type": "code",
   "execution_count": 11,
   "id": "ec5c4467",
   "metadata": {},
   "outputs": [
    {
     "name": "stdout",
     "output_type": "stream",
     "text": [
      "[20]\n"
     ]
    }
   ],
   "source": [
    "#####7. write a Python program to Program to print duplicates from a list of integers\n",
    "def Repeat(x):\n",
    "    _size = len(x)\n",
    "    repeated = []\n",
    "    for i in range(_size):\n",
    "        k = i + 1\n",
    "        for j in range(k, _size):\n",
    "            if x[i] == x[j] and x[i] not in repeated:\n",
    "                repeated.append(x[i])\n",
    "                return repeated\n",
    "# Driver Code\n",
    "list1 = [10, 20, 30, 20, 20, 30, 40,\n",
    "50, -20, 60, 60, -20, -20]\n",
    "print (Repeat(list1))"
   ]
  },
  {
   "cell_type": "code",
   "execution_count": 12,
   "id": "e3166a0c",
   "metadata": {},
   "outputs": [],
   "source": [
    "#####8. write a Python program to find the Cumulative sum of a list\n",
    "def Cumulative_sum(lists):\n",
    "    cum_list = []\n",
    "    lenlength = len(lists)\n",
    "    cum_list = [sum(lists[0:x:1]) for x in range(0, length+1)]\n",
    "    return cum_list[1:]\n",
    "    lists = [10, 15, 20, 25, 30]\n",
    "    print (Cumulative_sum(lists))"
   ]
  },
  {
   "cell_type": "code",
   "execution_count": 13,
   "id": "57c73aeb",
   "metadata": {},
   "outputs": [
    {
     "name": "stdout",
     "output_type": "stream",
     "text": [
      "The list is : \n",
      "[11, 23, 41, 62, 89, 0, 10]\n",
      "The result after adding the digits is : \n",
      "[1]\n",
      "The result after adding the digits is : \n",
      "[1, 2]\n",
      "The result after adding the digits is : \n",
      "[1, 2, 2]\n",
      "The result after adding the digits is : \n",
      "[1, 2, 2, 5]\n",
      "The result after adding the digits is : \n",
      "[1, 2, 2, 5, 4]\n",
      "The result after adding the digits is : \n",
      "[1, 2, 2, 5, 4, 5]\n",
      "The result after adding the digits is : \n",
      "[1, 2, 2, 5, 4, 5, 6]\n",
      "The result after adding the digits is : \n",
      "[1, 2, 2, 5, 4, 5, 6, 8]\n",
      "The result after adding the digits is : \n",
      "[1, 2, 2, 5, 4, 5, 6, 8, 8]\n",
      "The result after adding the digits is : \n",
      "[1, 2, 2, 5, 4, 5, 6, 8, 8, 17]\n",
      "The result after adding the digits is : \n",
      "[1, 2, 2, 5, 4, 5, 6, 8, 8, 17, 0]\n",
      "The result after adding the digits is : \n",
      "[1, 2, 2, 5, 4, 5, 6, 8, 8, 17, 0, 1]\n",
      "The result after adding the digits is : \n",
      "[1, 2, 2, 5, 4, 5, 6, 8, 8, 17, 0, 1, 1]\n"
     ]
    }
   ],
   "source": [
    "####9. write a Python program to Sum of number digits in a List\n",
    "my_list = [11, 23, 41, 62, 89, 0, 10]\n",
    "print(\"The list is : \")\n",
    "print(my_list)\n",
    "my_result = []\n",
    "for elem in my_list:\n",
    "    sum_val = 0\n",
    "    for digit in str(elem):\n",
    "        sum_val += int(digit)\n",
    "        my_result.append(sum_val)\n",
    "        print (\"The result after adding the digits is : \" )\n",
    "        print(my_result)\n"
   ]
  },
  {
   "cell_type": "code",
   "execution_count": null,
   "id": "f2a51c3a",
   "metadata": {},
   "outputs": [],
   "source": []
  }
 ],
 "metadata": {
  "kernelspec": {
   "display_name": "Python 3 (ipykernel)",
   "language": "python",
   "name": "python3"
  },
  "language_info": {
   "codemirror_mode": {
    "name": "ipython",
    "version": 3
   },
   "file_extension": ".py",
   "mimetype": "text/x-python",
   "name": "python",
   "nbconvert_exporter": "python",
   "pygments_lexer": "ipython3",
   "version": "3.9.7"
  }
 },
 "nbformat": 4,
 "nbformat_minor": 5
}
