{
 "cells": [
  {
   "cell_type": "markdown",
   "id": "0e2f52ce",
   "metadata": {},
   "source": [
    "#### Q1\n",
    "##### What will the output be of ((500//7) % 5) ** 3?"
   ]
  },
  {
   "cell_type": "code",
   "execution_count": 1,
   "id": "05f177af",
   "metadata": {},
   "outputs": [
    {
     "data": {
      "text/plain": [
       "1"
      ]
     },
     "execution_count": 1,
     "metadata": {},
     "output_type": "execute_result"
    }
   ],
   "source": [
    "((500//7) % 5) ** 3"
   ]
  },
  {
   "cell_type": "markdown",
   "id": "b26ab274",
   "metadata": {},
   "source": [
    "###### Q2\n",
    "#####  How will you extract ‘love’ from the string S = “I love Python”? (More than one option may be correct.)."
   ]
  },
  {
   "cell_type": "code",
   "execution_count": 2,
   "id": "ade7e7d7",
   "metadata": {},
   "outputs": [
    {
     "name": "stdout",
     "output_type": "stream",
     "text": [
      "love \n"
     ]
    }
   ],
   "source": [
    "S = \"I love Python\"\n",
    "print(S[2:7])\n"
   ]
  },
  {
   "cell_type": "markdown",
   "id": "1a06af48",
   "metadata": {},
   "source": [
    "##### Q3\n",
    "###### What will the output of 3 * 3 ** 3 be?"
   ]
  },
  {
   "cell_type": "code",
   "execution_count": 3,
   "id": "8047373b",
   "metadata": {},
   "outputs": [
    {
     "data": {
      "text/plain": [
       "81"
      ]
     },
     "execution_count": 3,
     "metadata": {},
     "output_type": "execute_result"
    }
   ],
   "source": [
    "3 * 3 ** 3"
   ]
  },
  {
   "cell_type": "markdown",
   "id": "bb83505c",
   "metadata": {},
   "source": [
    "####### Q4\n",
    "###### If you have a tuple T = (3, 5, 7, 11), what will the output of T.append(9) be?\n",
    "\n",
    "#### Ans- No tupple is immutble we will get error"
   ]
  },
  {
   "cell_type": "markdown",
   "id": "94c86eee",
   "metadata": {},
   "source": [
    "###### Q5\n",
    "##### What will the output of the following program be?\n",
    "\n",
    "### L1 = ['Vikas', 'Akshay', 'Sanskar', 'Mahima']\n",
    "\n",
    "#### print(L1[1][-1])"
   ]
  },
  {
   "cell_type": "code",
   "execution_count": null,
   "id": "d368b7f7",
   "metadata": {},
   "outputs": [],
   "source": []
  }
 ],
 "metadata": {
  "kernelspec": {
   "display_name": "Python 3 (ipykernel)",
   "language": "python",
   "name": "python3"
  },
  "language_info": {
   "codemirror_mode": {
    "name": "ipython",
    "version": 3
   },
   "file_extension": ".py",
   "mimetype": "text/x-python",
   "name": "python",
   "nbconvert_exporter": "python",
   "pygments_lexer": "ipython3",
   "version": "3.9.7"
  }
 },
 "nbformat": 4,
 "nbformat_minor": 5
}
