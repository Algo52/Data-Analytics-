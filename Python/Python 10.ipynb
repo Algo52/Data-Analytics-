{
 "cells": [
  {
   "cell_type": "code",
   "execution_count": 7,
   "id": "8ec28245",
   "metadata": {},
   "outputs": [
    {
     "name": "stdout",
     "output_type": "stream",
     "text": [
      "Original Dictionary:  {1: 'one', 2: 'two', 3: 'three', 4: 'four'}\n",
      "Dictionary after del:  {2: 'two', 3: 'three', 4: 'four'}\n",
      "Dictionary after del:  {2: 'two', 4: 'four'}\n"
     ]
    }
   ],
   "source": [
    "####1 Python | Ways to remove a key from dictionary\n",
    "# declare a dictionary\n",
    "dict1 = {1: \"one\", 2: \"two\", 3: \"three\", 4: \"four\"}\n",
    "print(\"Original Dictionary: \", dict1)\n",
    "\n",
    "# using del and giving the key as index\n",
    "del dict1[1]\n",
    "print(\"Dictionary after del: \", dict1)\n",
    "del dict1[3]\n",
    "print(\"Dictionary after del: \", dict1)\n"
   ]
  },
  {
   "cell_type": "code",
   "execution_count": 9,
   "id": "50f17bcb",
   "metadata": {},
   "outputs": [
    {
     "name": "stdout",
     "output_type": "stream",
     "text": [
      "The list printed sorting by age: \n",
      "[{'name': 'Nikhil', 'age': 19}, {'name': 'Nandini', 'age': 20}, {'name': 'Manjeet', 'age': 20}]\n",
      "\r\n",
      "The list printed sorting by age and name: \n",
      "[{'name': 'Nikhil', 'age': 19}, {'name': 'Manjeet', 'age': 20}, {'name': 'Nandini', 'age': 20}]\n",
      "\r\n",
      "The list printed sorting by age in descending order: \n",
      "[{'name': 'Nandini', 'age': 20}, {'name': 'Manjeet', 'age': 20}, {'name': 'Nikhil', 'age': 19}]\n"
     ]
    }
   ],
   "source": [
    "###2.Ways to sort list of dictionaries by values in Python – Using itemgetter\n",
    "\n",
    "from operator import itemgetter\n",
    "\n",
    "lis = [{ \"name\" : \"Nandini\", \"age\" : 20},\n",
    "{ \"name\" : \"Manjeet\", \"age\" : 20 },\n",
    "{ \"name\" : \"Nikhil\" , \"age\" : 19 }]\n",
    "\n",
    "print (\"The list printed sorting by age: \")\n",
    "print( sorted(lis, key=itemgetter('age')))\n",
    "\n",
    "print (\"\\r\")\n",
    "\n",
    "print (\"The list printed sorting by age and name: \")\n",
    "print (sorted(lis, key=itemgetter('age', 'name')))\n",
    "\n",
    "print (\"\\r\")\n",
    "\n",
    "# using sorted and itemgetter to print list sorted by age in descending order\n",
    "print( \"The list printed sorting by age in descending order: \")\n",
    "print (sorted(lis, key=itemgetter('age'),reverse = True))\n"
   ]
  },
  {
   "cell_type": "code",
   "execution_count": 10,
   "id": "be7fcda6",
   "metadata": {},
   "outputs": [
    {
     "name": "stdout",
     "output_type": "stream",
     "text": [
      "List of employees :\n",
      "[{'id': '101', 'name': 'Adam', 'department': 'IT'}, {'id': '102', 'name': 'Ricky', 'department': 'Electronics'}, {'id': '103', 'name': 'Shane', 'department': 'Auto'}]\n",
      "\n",
      "Sorted List of employees :\n",
      "[{'id': '103', 'name': 'Shane', 'department': 'Auto'}, {'id': '102', 'name': 'Ricky', 'department': 'Electronics'}, {'id': '101', 'name': 'Adam', 'department': 'IT'}]\n"
     ]
    }
   ],
   "source": [
    "###3.Ways to sort list of dictionaries by values in Python – Using lambda function\n",
    "employees = [{'id':'101', 'name':'Adam', 'department':'IT'}, {'id':'102', 'name':'Ricky', 'department':'Electronics'}, {'id':'103', 'name': 'Shane', 'department':'Auto'}]\n",
    "print(\"List of employees :\")\n",
    "print(employees)\n",
    "sorted_employees = sorted(employees, key = lambda x: x['department'])\n",
    "print(\"\\nSorted List of employees :\")\n",
    "print(sorted_employees)\n"
   ]
  },
  {
   "cell_type": "code",
   "execution_count": 11,
   "id": "e001f55e",
   "metadata": {},
   "outputs": [
    {
     "name": "stdout",
     "output_type": "stream",
     "text": [
      "None\n",
      "{'d': 6, 'c': 4, 'a': 10, 'b': 8}\n"
     ]
    }
   ],
   "source": [
    "###4.Python | Merging two Dictionaries\n",
    "# Python code to merge dict using update() method\n",
    "def Merge(dict1, dict2):\n",
    "    return(dict2.update(dict1))\n",
    "\n",
    "# Driver code\n",
    "dict1 = {'a': 10, 'b': 8}\n",
    "dict2 = {'d': 6, 'c': 4}\n",
    "\n",
    "# This return None\n",
    "print(Merge(dict1, dict2))\n",
    "\n",
    "# changes made in dict2\n",
    "print(dict2)\n"
   ]
  },
  {
   "cell_type": "code",
   "execution_count": 12,
   "id": "ce02fedd",
   "metadata": {},
   "outputs": [
    {
     "name": "stdout",
     "output_type": "stream",
     "text": [
      "The dictionary is : \n",
      "{'month_num': [1, 2, 3, 4, 5, 6], 'name_of_month': ['Jan', 'Feb', 'March', 'Apr', 'May', 'June']}\n",
      "The flattened dictionary is: \n",
      "{1: 'Jan', 2: 'Feb', 3: 'March', 4: 'Apr', 5: 'May', 6: 'June'}\n"
     ]
    }
   ],
   "source": [
    "####5.Python – Convert key-values list to flat dictionary\n",
    "from itertools import product\n",
    "\n",
    "my_dict = {'month_num' : [1, 2, 3, 4, 5, 6], 'name_of_month' : ['Jan', 'Feb', 'March', 'Apr', 'May', 'June']}\n",
    "\n",
    "print(\"The dictionary is : \")\n",
    "print(my_dict)\n",
    "\n",
    "my_result = dict(zip(my_dict['month_num'], my_dict['name_of_month']))\n",
    "\n",
    "print(\"The flattened dictionary is: \")\n",
    "print(my_result)\n"
   ]
  },
  {
   "cell_type": "code",
   "execution_count": 13,
   "id": "49201569",
   "metadata": {},
   "outputs": [
    {
     "name": "stdout",
     "output_type": "stream",
     "text": [
      "Resultant Dictionary :\n",
      "OrderedDict([('D', '400'), ('A', '100'), ('B', '200'), ('C', '300')])\n"
     ]
    }
   ],
   "source": [
    "####6.Python – Insertion at the beginning in OrderedDict\n",
    "from collections import OrderedDict\n",
    "dic1 = OrderedDict([('A', '100'), ('B', '200'), ('C', '300')])\n",
    "insrt = OrderedDict([(\"D\", '400')])\n",
    "  \n",
    "final = OrderedDict(list(insrt.items()) + list(dic1.items()))\n",
    "  \n",
    "# print result\n",
    "print (\"Resultant Dictionary :\")\n",
    "print(final)\n"
   ]
  },
  {
   "cell_type": "code",
   "execution_count": 14,
   "id": "faeaad8e",
   "metadata": {},
   "outputs": [
    {
     "name": "stdout",
     "output_type": "stream",
     "text": [
      "false\n"
     ]
    }
   ],
   "source": [
    "####7.Python | Check order of character in string using OrderedDict( )\n",
    "from collections import OrderedDict\n",
    "\n",
    "def checkOrder(input, pattern):\n",
    "    dict = OrderedDict.fromkeys(input)\n",
    "\n",
    "    ptrlen = 0\n",
    "    for key,value in dict.items():\n",
    "        if (key == pattern[ptrlen]):\n",
    "            ptrlen = ptrlen + 1\n",
    "            if (ptrlen == (len(pattern))):\n",
    "                return 'true'\n",
    "            return 'false'\n",
    "\n",
    "# Driver program\n",
    "if __name__ == \"__main__\":\n",
    "    input = 'engineers rock'\n",
    "    pattern = 'egr'\n",
    "    print (checkOrder(input,pattern))\n"
   ]
  },
  {
   "cell_type": "code",
   "execution_count": 16,
   "id": "38003b2f",
   "metadata": {},
   "outputs": [
    {
     "name": "stdout",
     "output_type": "stream",
     "text": [
      "john\n",
      "john\n"
     ]
    },
    {
     "ename": "KeyError",
     "evalue": "2",
     "output_type": "error",
     "traceback": [
      "\u001b[1;31m---------------------------------------------------------------------------\u001b[0m",
      "\u001b[1;31mKeyError\u001b[0m                                  Traceback (most recent call last)",
      "\u001b[1;32m~\\AppData\\Local\\Temp/ipykernel_19868/3172561973.py\u001b[0m in \u001b[0;36m<module>\u001b[1;34m\u001b[0m\n\u001b[0;32m     19\u001b[0m \u001b[1;32mif\u001b[0m \u001b[0m__name__\u001b[0m \u001b[1;33m==\u001b[0m \u001b[1;34m\"__main__\"\u001b[0m\u001b[1;33m:\u001b[0m\u001b[1;33m\u001b[0m\u001b[1;33m\u001b[0m\u001b[0m\n\u001b[0;32m     20\u001b[0m     \u001b[0minput\u001b[0m \u001b[1;33m=\u001b[0m\u001b[1;33m[\u001b[0m\u001b[1;34m'john'\u001b[0m\u001b[1;33m,\u001b[0m\u001b[1;34m'johnny'\u001b[0m\u001b[1;33m,\u001b[0m\u001b[1;34m'jackie'\u001b[0m\u001b[1;33m,\u001b[0m\u001b[1;34m'johnny'\u001b[0m\u001b[1;33m,\u001b[0m\u001b[1;34m'john'\u001b[0m\u001b[1;33m,\u001b[0m\u001b[1;34m'jackie'\u001b[0m\u001b[1;33m,\u001b[0m\u001b[1;34m'jamie'\u001b[0m\u001b[1;33m,\u001b[0m\u001b[1;34m'jamie'\u001b[0m\u001b[1;33m,\u001b[0m\u001b[1;34m'john'\u001b[0m\u001b[1;33m,\u001b[0m\u001b[1;34m'johnny'\u001b[0m\u001b[1;33m,\u001b[0m\u001b[1;34m'jamie'\u001b[0m\u001b[1;33m,\u001b[0m\u001b[1;34m'johnny'\u001b[0m\u001b[1;33m,\u001b[0m\u001b[1;34m'john'\u001b[0m\u001b[1;33m]\u001b[0m\u001b[1;33m\u001b[0m\u001b[1;33m\u001b[0m\u001b[0m\n\u001b[1;32m---> 21\u001b[1;33m     \u001b[0mwinner\u001b[0m\u001b[1;33m(\u001b[0m\u001b[0minput\u001b[0m\u001b[1;33m)\u001b[0m\u001b[1;33m\u001b[0m\u001b[1;33m\u001b[0m\u001b[0m\n\u001b[0m",
      "\u001b[1;32m~\\AppData\\Local\\Temp/ipykernel_19868/3172561973.py\u001b[0m in \u001b[0;36mwinner\u001b[1;34m(input)\u001b[0m\n\u001b[0;32m      9\u001b[0m         \u001b[0mdict\u001b[0m\u001b[1;33m[\u001b[0m\u001b[0mvalue\u001b[0m\u001b[1;33m]\u001b[0m \u001b[1;33m=\u001b[0m \u001b[1;33m[\u001b[0m\u001b[1;33m]\u001b[0m\u001b[1;33m\u001b[0m\u001b[1;33m\u001b[0m\u001b[0m\n\u001b[0;32m     10\u001b[0m         \u001b[1;32mfor\u001b[0m \u001b[1;33m(\u001b[0m\u001b[0mkey\u001b[0m\u001b[1;33m,\u001b[0m\u001b[0mvalue\u001b[0m\u001b[1;33m)\u001b[0m \u001b[1;32min\u001b[0m \u001b[0mvotes\u001b[0m\u001b[1;33m.\u001b[0m\u001b[0mitems\u001b[0m\u001b[1;33m(\u001b[0m\u001b[1;33m)\u001b[0m\u001b[1;33m:\u001b[0m\u001b[1;33m\u001b[0m\u001b[1;33m\u001b[0m\u001b[0m\n\u001b[1;32m---> 11\u001b[1;33m             \u001b[0mdict\u001b[0m\u001b[1;33m[\u001b[0m\u001b[0mvalue\u001b[0m\u001b[1;33m]\u001b[0m\u001b[1;33m.\u001b[0m\u001b[0mappend\u001b[0m\u001b[1;33m(\u001b[0m\u001b[0mkey\u001b[0m\u001b[1;33m)\u001b[0m\u001b[1;33m\u001b[0m\u001b[1;33m\u001b[0m\u001b[0m\n\u001b[0m\u001b[0;32m     12\u001b[0m             \u001b[0mmaxVote\u001b[0m \u001b[1;33m=\u001b[0m \u001b[0msorted\u001b[0m\u001b[1;33m(\u001b[0m\u001b[0mdict\u001b[0m\u001b[1;33m.\u001b[0m\u001b[0mkeys\u001b[0m\u001b[1;33m(\u001b[0m\u001b[1;33m)\u001b[0m\u001b[1;33m,\u001b[0m\u001b[0mreverse\u001b[0m\u001b[1;33m=\u001b[0m\u001b[1;32mTrue\u001b[0m\u001b[1;33m)\u001b[0m\u001b[1;33m[\u001b[0m\u001b[1;36m0\u001b[0m\u001b[1;33m]\u001b[0m\u001b[1;33m\u001b[0m\u001b[1;33m\u001b[0m\u001b[0m\n\u001b[0;32m     13\u001b[0m             \u001b[1;32mif\u001b[0m \u001b[0mlen\u001b[0m\u001b[1;33m(\u001b[0m\u001b[0mdict\u001b[0m\u001b[1;33m[\u001b[0m\u001b[0mmaxVote\u001b[0m\u001b[1;33m]\u001b[0m\u001b[1;33m)\u001b[0m\u001b[1;33m>\u001b[0m\u001b[1;36m1\u001b[0m\u001b[1;33m:\u001b[0m\u001b[1;33m\u001b[0m\u001b[1;33m\u001b[0m\u001b[0m\n",
      "\u001b[1;31mKeyError\u001b[0m: 2"
     ]
    }
   ],
   "source": [
    "####8.Dictionary and counter in Python to find winner of election\n",
    "from collections import Counter\n",
    "\n",
    "def winner(input):\n",
    "    votes = Counter(input)\n",
    "    dict = {}\n",
    "\n",
    "    for value in votes.values():\n",
    "        dict[value] = []\n",
    "        for (key,value) in votes.items():\n",
    "            dict[value].append(key)\n",
    "            maxVote = sorted(dict.keys(),reverse=True)[0]\n",
    "            if len(dict[maxVote])>1:\n",
    "                print (sorted(dict[maxVote])[0])\n",
    "            else:\n",
    "                print (dict[maxVote][0])\n",
    "\n",
    "# Driver program\n",
    "if __name__ == \"__main__\":\n",
    "    input =['john','johnny','jackie','johnny','john','jackie','jamie','jamie','john','johnny','jamie','johnny','john']\n",
    "    winner(input)\n"
   ]
  },
  {
   "cell_type": "code",
   "execution_count": 17,
   "id": "f039c149",
   "metadata": {},
   "outputs": [
    {
     "name": "stdout",
     "output_type": "stream",
     "text": [
      "The original dictionary is : {'Gfg': 1, 'is': 3, 'Best': 2}\n",
      "The ordered keys and values : ['Gfg', 'is', 'Best', 1, 3, 2]\n"
     ]
    }
   ],
   "source": [
    "###9.Python – Append Dictionary Keys and Values ( In order ) in dictionary\n",
    "\n",
    "test_dict = {\"Gfg\" : 1, \"is\" : 3, \"Best\" : 2}\n",
    "\n",
    "# printing original dictionary\n",
    "print(\"The original dictionary is : \" + str(test_dict))\n",
    "\n",
    "# + operator is used to perform adding keys and values\n",
    "res = list(test_dict.keys()) + list(test_dict.values())\n",
    "\n",
    "# printing result\n",
    "print(\"The ordered keys and values : \" + str(res))\n"
   ]
  },
  {
   "cell_type": "code",
   "execution_count": 18,
   "id": "f69795f5",
   "metadata": {},
   "outputs": [
    {
     "ename": "IndentationError",
     "evalue": "expected an indented block (Temp/ipykernel_19868/1861341885.py, line 5)",
     "output_type": "error",
     "traceback": [
      "\u001b[1;36m  File \u001b[1;32m\"C:\\Users\\Hemanth\\AppData\\Local\\Temp/ipykernel_19868/1861341885.py\"\u001b[1;36m, line \u001b[1;32m5\u001b[0m\n\u001b[1;33m    key_value ={}\u001b[0m\n\u001b[1;37m    ^\u001b[0m\n\u001b[1;31mIndentationError\u001b[0m\u001b[1;31m:\u001b[0m expected an indented block\n"
     ]
    }
   ],
   "source": [
    "####10.Python | Sort Python Dictionaries by Key or Value\n",
    "# Function calling\n",
    "def dictionairy():\n",
    "# Declare hash function\n",
    "key_value ={}\n",
    "\n",
    "# Initializing value\n",
    "key_value[2] = 56\n",
    "key_value[1] = 2\n",
    "key_value[5] = 12\n",
    "key_value[4] = 24\n",
    "key_value[6] = 18\n",
    "key_value[3] = 323\n",
    "\n",
    "print (\"Task 1:-\\n\")\n",
    "print (\"Keys are\")\n",
    "\n",
    "for i in sorted (key_value.keys()) :\n",
    "    print(i, end = \" \")\n",
    "\n",
    "def main():\n",
    "    dictionairy()\n",
    "\n",
    "# Main function calling\n",
    "if __name__==\"__main__\":\n",
    "    main()\n"
   ]
  },
  {
   "cell_type": "code",
   "execution_count": null,
   "id": "0120c945",
   "metadata": {},
   "outputs": [],
   "source": []
  }
 ],
 "metadata": {
  "kernelspec": {
   "display_name": "Python 3 (ipykernel)",
   "language": "python",
   "name": "python3"
  },
  "language_info": {
   "codemirror_mode": {
    "name": "ipython",
    "version": 3
   },
   "file_extension": ".py",
   "mimetype": "text/x-python",
   "name": "python",
   "nbconvert_exporter": "python",
   "pygments_lexer": "ipython3",
   "version": "3.9.7"
  }
 },
 "nbformat": 4,
 "nbformat_minor": 5
}
